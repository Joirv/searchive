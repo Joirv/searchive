{
 "cells": [
  {
   "cell_type": "markdown",
   "metadata": {},
   "source": [
    "## 필요한 라이브러리 불러오기"
   ]
  },
  {
   "cell_type": "code",
   "execution_count": 1,
   "metadata": {},
   "outputs": [],
   "source": [
    "import os\n",
    "import numpy as np\n",
    "import random\n",
    "\n",
    "import pandas as pd\n",
    "import matplotlib.pyplot as plt\n",
    "import seaborn as sns\n",
    "from statsmodels.stats.outliers_influence import variance_inflation_factor\n",
    "import statsmodels.api as sm\n",
    "import statsmodels.formula.api as smf\n",
    "from sklearn.linear_model import Ridge, Lasso, LogisticRegression\n",
    "from sklearn.model_selection import train_test_split, cross_val_score, KFold\n",
    "from sklearn.metrics import r2_score, mean_squared_error, recall_score, precision_score, f1_score\n",
    "from sklearn.neighbors import KNeighborsClassifier\n",
    "from sklearn.preprocessing import StandardScaler"
   ]
  },
  {
   "cell_type": "code",
   "execution_count": 2,
   "metadata": {},
   "outputs": [],
   "source": [
    "def seed_everything(seed):\n",
    "    random.seed(seed)\n",
    "    np.random.seed(seed)\n",
    "    os.environ[\"PYTHONHASHSEED\"] = str(seed)\n",
    "seed_everything(1)"
   ]
  },
  {
   "cell_type": "markdown",
   "metadata": {},
   "source": [
    "# 1. 회귀문제"
   ]
  },
  {
   "cell_type": "markdown",
   "metadata": {},
   "source": [
    "## 데이터 불러오기"
   ]
  },
  {
   "cell_type": "code",
   "execution_count": 3,
   "metadata": {
    "scrolled": true
   },
   "outputs": [],
   "source": [
    "bicycle = pd.read_csv(\"./data/regression.csv\")"
   ]
  },
  {
   "cell_type": "markdown",
   "metadata": {},
   "source": [
    "#### 1. null값 10개 미만 : 최빈값으로 대체 (동일한 개수의 최빈값이 있으면 더 작은 값 선택)\n"
   ]
  },
  {
   "cell_type": "code",
   "execution_count": 4,
   "metadata": {},
   "outputs": [
    {
     "data": {
      "text/plain": [
       "id                          0\n",
       "hour                        0\n",
       "hour_bef_temperature        2\n",
       "hour_bef_precipitation      2\n",
       "hour_bef_windspeed          9\n",
       "hour_bef_humidity           2\n",
       "hour_bef_visibility         2\n",
       "hour_bef_ozone             76\n",
       "hour_bef_pm10              90\n",
       "hour_bef_pm2.5            117\n",
       "count                       0\n",
       "dtype: int64"
      ]
     },
     "execution_count": 4,
     "metadata": {},
     "output_type": "execute_result"
    }
   ],
   "source": [
    "bicycle.isnull().sum()"
   ]
  },
  {
   "cell_type": "code",
   "execution_count": 5,
   "metadata": {},
   "outputs": [],
   "source": [
    "for i in bicycle:\n",
    "    if bicycle[i].isnull().sum() <10:\n",
    "        newb = bicycle[i].fillna(bicycle[i].mode()[0], inplace=True)\n",
    "        # inplace=True : 원본 데이터 변경"
   ]
  },
  {
   "cell_type": "markdown",
   "metadata": {},
   "source": [
    "#### 2. null값 10개 이상 100개 미만 : 평균값으로 대체\n"
   ]
  },
  {
   "cell_type": "code",
   "execution_count": 6,
   "metadata": {},
   "outputs": [],
   "source": [
    "for i in bicycle:\n",
    "    if bicycle[i].isnull().sum() <100 and bicycle[i].isnull().sum()>=10:\n",
    "        bicycle[i].fillna(bicycle[i].mean(), inplace=True)"
   ]
  },
  {
   "cell_type": "markdown",
   "metadata": {},
   "source": [
    "#### 3. null값 100개 이상 : null값 행 제거 \n"
   ]
  },
  {
   "cell_type": "code",
   "execution_count": 7,
   "metadata": {},
   "outputs": [],
   "source": [
    "for i in bicycle:\n",
    "    if bicycle[i].isnull().sum() >=100:\n",
    "        bicycle.dropna(axis=0, how='any', inplace=True)"
   ]
  },
  {
   "cell_type": "code",
   "execution_count": 8,
   "metadata": {},
   "outputs": [
    {
     "data": {
      "text/html": [
       "<div>\n",
       "<style scoped>\n",
       "    .dataframe tbody tr th:only-of-type {\n",
       "        vertical-align: middle;\n",
       "    }\n",
       "\n",
       "    .dataframe tbody tr th {\n",
       "        vertical-align: top;\n",
       "    }\n",
       "\n",
       "    .dataframe thead th {\n",
       "        text-align: right;\n",
       "    }\n",
       "</style>\n",
       "<table border=\"1\" class=\"dataframe\">\n",
       "  <thead>\n",
       "    <tr style=\"text-align: right;\">\n",
       "      <th></th>\n",
       "      <th>id</th>\n",
       "      <th>hour</th>\n",
       "      <th>hour_bef_temperature</th>\n",
       "      <th>hour_bef_precipitation</th>\n",
       "      <th>hour_bef_windspeed</th>\n",
       "      <th>hour_bef_humidity</th>\n",
       "      <th>hour_bef_visibility</th>\n",
       "      <th>hour_bef_ozone</th>\n",
       "      <th>hour_bef_pm10</th>\n",
       "      <th>hour_bef_pm2.5</th>\n",
       "      <th>count</th>\n",
       "    </tr>\n",
       "  </thead>\n",
       "  <tbody>\n",
       "    <tr>\n",
       "      <th>0</th>\n",
       "      <td>3</td>\n",
       "      <td>20</td>\n",
       "      <td>16.3</td>\n",
       "      <td>1.0</td>\n",
       "      <td>1.5</td>\n",
       "      <td>89.0</td>\n",
       "      <td>576.0</td>\n",
       "      <td>0.027</td>\n",
       "      <td>76.0</td>\n",
       "      <td>33.0</td>\n",
       "      <td>49.0</td>\n",
       "    </tr>\n",
       "    <tr>\n",
       "      <th>1</th>\n",
       "      <td>6</td>\n",
       "      <td>13</td>\n",
       "      <td>20.1</td>\n",
       "      <td>0.0</td>\n",
       "      <td>1.4</td>\n",
       "      <td>48.0</td>\n",
       "      <td>916.0</td>\n",
       "      <td>0.042</td>\n",
       "      <td>73.0</td>\n",
       "      <td>40.0</td>\n",
       "      <td>159.0</td>\n",
       "    </tr>\n",
       "    <tr>\n",
       "      <th>2</th>\n",
       "      <td>7</td>\n",
       "      <td>6</td>\n",
       "      <td>13.9</td>\n",
       "      <td>0.0</td>\n",
       "      <td>0.7</td>\n",
       "      <td>79.0</td>\n",
       "      <td>1382.0</td>\n",
       "      <td>0.033</td>\n",
       "      <td>32.0</td>\n",
       "      <td>19.0</td>\n",
       "      <td>26.0</td>\n",
       "    </tr>\n",
       "    <tr>\n",
       "      <th>3</th>\n",
       "      <td>8</td>\n",
       "      <td>23</td>\n",
       "      <td>8.1</td>\n",
       "      <td>0.0</td>\n",
       "      <td>2.7</td>\n",
       "      <td>54.0</td>\n",
       "      <td>946.0</td>\n",
       "      <td>0.040</td>\n",
       "      <td>75.0</td>\n",
       "      <td>64.0</td>\n",
       "      <td>57.0</td>\n",
       "    </tr>\n",
       "    <tr>\n",
       "      <th>4</th>\n",
       "      <td>9</td>\n",
       "      <td>18</td>\n",
       "      <td>29.5</td>\n",
       "      <td>0.0</td>\n",
       "      <td>4.8</td>\n",
       "      <td>7.0</td>\n",
       "      <td>2000.0</td>\n",
       "      <td>0.057</td>\n",
       "      <td>27.0</td>\n",
       "      <td>11.0</td>\n",
       "      <td>431.0</td>\n",
       "    </tr>\n",
       "    <tr>\n",
       "      <th>5</th>\n",
       "      <td>13</td>\n",
       "      <td>2</td>\n",
       "      <td>13.6</td>\n",
       "      <td>0.0</td>\n",
       "      <td>1.7</td>\n",
       "      <td>80.0</td>\n",
       "      <td>1073.0</td>\n",
       "      <td>0.027</td>\n",
       "      <td>34.0</td>\n",
       "      <td>15.0</td>\n",
       "      <td>39.0</td>\n",
       "    </tr>\n",
       "    <tr>\n",
       "      <th>6</th>\n",
       "      <td>14</td>\n",
       "      <td>3</td>\n",
       "      <td>10.6</td>\n",
       "      <td>0.0</td>\n",
       "      <td>1.5</td>\n",
       "      <td>58.0</td>\n",
       "      <td>1548.0</td>\n",
       "      <td>0.038</td>\n",
       "      <td>62.0</td>\n",
       "      <td>33.0</td>\n",
       "      <td>23.0</td>\n",
       "    </tr>\n",
       "    <tr>\n",
       "      <th>7</th>\n",
       "      <td>16</td>\n",
       "      <td>21</td>\n",
       "      <td>16.0</td>\n",
       "      <td>0.0</td>\n",
       "      <td>6.0</td>\n",
       "      <td>21.0</td>\n",
       "      <td>1961.0</td>\n",
       "      <td>0.050</td>\n",
       "      <td>90.0</td>\n",
       "      <td>28.0</td>\n",
       "      <td>146.0</td>\n",
       "    </tr>\n",
       "    <tr>\n",
       "      <th>8</th>\n",
       "      <td>19</td>\n",
       "      <td>9</td>\n",
       "      <td>13.8</td>\n",
       "      <td>0.0</td>\n",
       "      <td>1.9</td>\n",
       "      <td>64.0</td>\n",
       "      <td>1344.0</td>\n",
       "      <td>0.039</td>\n",
       "      <td>93.0</td>\n",
       "      <td>19.0</td>\n",
       "      <td>39.0</td>\n",
       "    </tr>\n",
       "    <tr>\n",
       "      <th>9</th>\n",
       "      <td>20</td>\n",
       "      <td>14</td>\n",
       "      <td>17.2</td>\n",
       "      <td>0.0</td>\n",
       "      <td>2.1</td>\n",
       "      <td>32.0</td>\n",
       "      <td>1571.0</td>\n",
       "      <td>0.025</td>\n",
       "      <td>64.0</td>\n",
       "      <td>19.0</td>\n",
       "      <td>83.0</td>\n",
       "    </tr>\n",
       "    <tr>\n",
       "      <th>10</th>\n",
       "      <td>21</td>\n",
       "      <td>4</td>\n",
       "      <td>5.7</td>\n",
       "      <td>0.0</td>\n",
       "      <td>0.6</td>\n",
       "      <td>77.0</td>\n",
       "      <td>1960.0</td>\n",
       "      <td>0.028</td>\n",
       "      <td>14.0</td>\n",
       "      <td>18.0</td>\n",
       "      <td>6.0</td>\n",
       "    </tr>\n",
       "    <tr>\n",
       "      <th>11</th>\n",
       "      <td>22</td>\n",
       "      <td>10</td>\n",
       "      <td>15.4</td>\n",
       "      <td>0.0</td>\n",
       "      <td>2.7</td>\n",
       "      <td>62.0</td>\n",
       "      <td>1362.0</td>\n",
       "      <td>0.039</td>\n",
       "      <td>99.0</td>\n",
       "      <td>21.0</td>\n",
       "      <td>42.0</td>\n",
       "    </tr>\n",
       "    <tr>\n",
       "      <th>12</th>\n",
       "      <td>24</td>\n",
       "      <td>9</td>\n",
       "      <td>14.1</td>\n",
       "      <td>0.0</td>\n",
       "      <td>3.2</td>\n",
       "      <td>59.0</td>\n",
       "      <td>1808.0</td>\n",
       "      <td>0.028</td>\n",
       "      <td>52.0</td>\n",
       "      <td>18.0</td>\n",
       "      <td>59.0</td>\n",
       "    </tr>\n",
       "    <tr>\n",
       "      <th>13</th>\n",
       "      <td>27</td>\n",
       "      <td>10</td>\n",
       "      <td>9.2</td>\n",
       "      <td>0.0</td>\n",
       "      <td>1.9</td>\n",
       "      <td>55.0</td>\n",
       "      <td>462.0</td>\n",
       "      <td>0.023</td>\n",
       "      <td>91.0</td>\n",
       "      <td>84.0</td>\n",
       "      <td>60.0</td>\n",
       "    </tr>\n",
       "    <tr>\n",
       "      <th>15</th>\n",
       "      <td>29</td>\n",
       "      <td>13</td>\n",
       "      <td>14.0</td>\n",
       "      <td>1.0</td>\n",
       "      <td>2.8</td>\n",
       "      <td>42.0</td>\n",
       "      <td>1518.0</td>\n",
       "      <td>0.030</td>\n",
       "      <td>49.0</td>\n",
       "      <td>37.0</td>\n",
       "      <td>5.0</td>\n",
       "    </tr>\n",
       "    <tr>\n",
       "      <th>16</th>\n",
       "      <td>30</td>\n",
       "      <td>21</td>\n",
       "      <td>18.8</td>\n",
       "      <td>0.0</td>\n",
       "      <td>2.2</td>\n",
       "      <td>34.0</td>\n",
       "      <td>2000.0</td>\n",
       "      <td>0.040</td>\n",
       "      <td>32.0</td>\n",
       "      <td>14.0</td>\n",
       "      <td>217.0</td>\n",
       "    </tr>\n",
       "    <tr>\n",
       "      <th>17</th>\n",
       "      <td>32</td>\n",
       "      <td>17</td>\n",
       "      <td>11.5</td>\n",
       "      <td>1.0</td>\n",
       "      <td>3.0</td>\n",
       "      <td>91.0</td>\n",
       "      <td>555.0</td>\n",
       "      <td>0.036</td>\n",
       "      <td>29.0</td>\n",
       "      <td>21.0</td>\n",
       "      <td>64.0</td>\n",
       "    </tr>\n",
       "    <tr>\n",
       "      <th>18</th>\n",
       "      <td>33</td>\n",
       "      <td>13</td>\n",
       "      <td>22.6</td>\n",
       "      <td>0.0</td>\n",
       "      <td>2.0</td>\n",
       "      <td>41.0</td>\n",
       "      <td>987.0</td>\n",
       "      <td>0.046</td>\n",
       "      <td>64.0</td>\n",
       "      <td>39.0</td>\n",
       "      <td>208.0</td>\n",
       "    </tr>\n",
       "    <tr>\n",
       "      <th>19</th>\n",
       "      <td>34</td>\n",
       "      <td>18</td>\n",
       "      <td>18.0</td>\n",
       "      <td>1.0</td>\n",
       "      <td>1.9</td>\n",
       "      <td>82.0</td>\n",
       "      <td>685.0</td>\n",
       "      <td>0.044</td>\n",
       "      <td>99.0</td>\n",
       "      <td>42.0</td>\n",
       "      <td>15.0</td>\n",
       "    </tr>\n",
       "    <tr>\n",
       "      <th>20</th>\n",
       "      <td>35</td>\n",
       "      <td>10</td>\n",
       "      <td>15.4</td>\n",
       "      <td>0.0</td>\n",
       "      <td>3.1</td>\n",
       "      <td>19.0</td>\n",
       "      <td>1225.0</td>\n",
       "      <td>0.032</td>\n",
       "      <td>199.0</td>\n",
       "      <td>18.0</td>\n",
       "      <td>58.0</td>\n",
       "    </tr>\n",
       "  </tbody>\n",
       "</table>\n",
       "</div>"
      ],
      "text/plain": [
       "    id  hour  hour_bef_temperature  hour_bef_precipitation  \\\n",
       "0    3    20                  16.3                     1.0   \n",
       "1    6    13                  20.1                     0.0   \n",
       "2    7     6                  13.9                     0.0   \n",
       "3    8    23                   8.1                     0.0   \n",
       "4    9    18                  29.5                     0.0   \n",
       "5   13     2                  13.6                     0.0   \n",
       "6   14     3                  10.6                     0.0   \n",
       "7   16    21                  16.0                     0.0   \n",
       "8   19     9                  13.8                     0.0   \n",
       "9   20    14                  17.2                     0.0   \n",
       "10  21     4                   5.7                     0.0   \n",
       "11  22    10                  15.4                     0.0   \n",
       "12  24     9                  14.1                     0.0   \n",
       "13  27    10                   9.2                     0.0   \n",
       "15  29    13                  14.0                     1.0   \n",
       "16  30    21                  18.8                     0.0   \n",
       "17  32    17                  11.5                     1.0   \n",
       "18  33    13                  22.6                     0.0   \n",
       "19  34    18                  18.0                     1.0   \n",
       "20  35    10                  15.4                     0.0   \n",
       "\n",
       "    hour_bef_windspeed  hour_bef_humidity  hour_bef_visibility  \\\n",
       "0                  1.5               89.0                576.0   \n",
       "1                  1.4               48.0                916.0   \n",
       "2                  0.7               79.0               1382.0   \n",
       "3                  2.7               54.0                946.0   \n",
       "4                  4.8                7.0               2000.0   \n",
       "5                  1.7               80.0               1073.0   \n",
       "6                  1.5               58.0               1548.0   \n",
       "7                  6.0               21.0               1961.0   \n",
       "8                  1.9               64.0               1344.0   \n",
       "9                  2.1               32.0               1571.0   \n",
       "10                 0.6               77.0               1960.0   \n",
       "11                 2.7               62.0               1362.0   \n",
       "12                 3.2               59.0               1808.0   \n",
       "13                 1.9               55.0                462.0   \n",
       "15                 2.8               42.0               1518.0   \n",
       "16                 2.2               34.0               2000.0   \n",
       "17                 3.0               91.0                555.0   \n",
       "18                 2.0               41.0                987.0   \n",
       "19                 1.9               82.0                685.0   \n",
       "20                 3.1               19.0               1225.0   \n",
       "\n",
       "    hour_bef_ozone  hour_bef_pm10  hour_bef_pm2.5  count  \n",
       "0            0.027           76.0            33.0   49.0  \n",
       "1            0.042           73.0            40.0  159.0  \n",
       "2            0.033           32.0            19.0   26.0  \n",
       "3            0.040           75.0            64.0   57.0  \n",
       "4            0.057           27.0            11.0  431.0  \n",
       "5            0.027           34.0            15.0   39.0  \n",
       "6            0.038           62.0            33.0   23.0  \n",
       "7            0.050           90.0            28.0  146.0  \n",
       "8            0.039           93.0            19.0   39.0  \n",
       "9            0.025           64.0            19.0   83.0  \n",
       "10           0.028           14.0            18.0    6.0  \n",
       "11           0.039           99.0            21.0   42.0  \n",
       "12           0.028           52.0            18.0   59.0  \n",
       "13           0.023           91.0            84.0   60.0  \n",
       "15           0.030           49.0            37.0    5.0  \n",
       "16           0.040           32.0            14.0  217.0  \n",
       "17           0.036           29.0            21.0   64.0  \n",
       "18           0.046           64.0            39.0  208.0  \n",
       "19           0.044           99.0            42.0   15.0  \n",
       "20           0.032          199.0            18.0   58.0  "
      ]
     },
     "execution_count": 8,
     "metadata": {},
     "output_type": "execute_result"
    }
   ],
   "source": [
    "bicycle[:20]"
   ]
  },
  {
   "cell_type": "markdown",
   "metadata": {},
   "source": [
    "#### 4. id 변수 제거\n"
   ]
  },
  {
   "cell_type": "code",
   "execution_count": 9,
   "metadata": {},
   "outputs": [],
   "source": [
    "bicycle.drop(labels=\"id\", axis=1, inplace=True)"
   ]
  },
  {
   "cell_type": "markdown",
   "metadata": {},
   "source": [
    "#### 5. 전처리 후 index를 0부터 차례로 재정렬 진행\n"
   ]
  },
  {
   "cell_type": "code",
   "execution_count": 10,
   "metadata": {},
   "outputs": [],
   "source": [
    "bicycle.reset_index(drop=True, inplace=True)"
   ]
  },
  {
   "cell_type": "markdown",
   "metadata": {},
   "source": [
    "#### 6. count를 y값, 나머지를 X값으로 처리"
   ]
  },
  {
   "cell_type": "code",
   "execution_count": 11,
   "metadata": {},
   "outputs": [],
   "source": [
    "x = bicycle.drop(['count'], axis=1)"
   ]
  },
  {
   "cell_type": "code",
   "execution_count": 12,
   "metadata": {},
   "outputs": [],
   "source": [
    "y = bicycle['count']"
   ]
  },
  {
   "cell_type": "markdown",
   "metadata": {},
   "source": [
    "\n",
    "#### 7. X와 y의 통계량 출력(describe 함수 사용)"
   ]
  },
  {
   "cell_type": "code",
   "execution_count": 13,
   "metadata": {},
   "outputs": [
    {
     "data": {
      "text/html": [
       "<div>\n",
       "<style scoped>\n",
       "    .dataframe tbody tr th:only-of-type {\n",
       "        vertical-align: middle;\n",
       "    }\n",
       "\n",
       "    .dataframe tbody tr th {\n",
       "        vertical-align: top;\n",
       "    }\n",
       "\n",
       "    .dataframe thead th {\n",
       "        text-align: right;\n",
       "    }\n",
       "</style>\n",
       "<table border=\"1\" class=\"dataframe\">\n",
       "  <thead>\n",
       "    <tr style=\"text-align: right;\">\n",
       "      <th></th>\n",
       "      <th>hour</th>\n",
       "      <th>hour_bef_temperature</th>\n",
       "      <th>hour_bef_precipitation</th>\n",
       "      <th>hour_bef_windspeed</th>\n",
       "      <th>hour_bef_humidity</th>\n",
       "      <th>hour_bef_visibility</th>\n",
       "      <th>hour_bef_ozone</th>\n",
       "      <th>hour_bef_pm10</th>\n",
       "      <th>hour_bef_pm2.5</th>\n",
       "    </tr>\n",
       "  </thead>\n",
       "  <tbody>\n",
       "    <tr>\n",
       "      <th>count</th>\n",
       "      <td>1342.000000</td>\n",
       "      <td>1342.000000</td>\n",
       "      <td>1342.000000</td>\n",
       "      <td>1342.000000</td>\n",
       "      <td>1342.000000</td>\n",
       "      <td>1342.000000</td>\n",
       "      <td>1342.000000</td>\n",
       "      <td>1342.000000</td>\n",
       "      <td>1342.000000</td>\n",
       "    </tr>\n",
       "    <tr>\n",
       "      <th>mean</th>\n",
       "      <td>11.918778</td>\n",
       "      <td>16.894262</td>\n",
       "      <td>0.029806</td>\n",
       "      <td>2.494188</td>\n",
       "      <td>51.627422</td>\n",
       "      <td>1417.240686</td>\n",
       "      <td>0.039152</td>\n",
       "      <td>57.351094</td>\n",
       "      <td>30.327124</td>\n",
       "    </tr>\n",
       "    <tr>\n",
       "      <th>std</th>\n",
       "      <td>6.744852</td>\n",
       "      <td>5.195518</td>\n",
       "      <td>0.170116</td>\n",
       "      <td>1.379474</td>\n",
       "      <td>20.144847</td>\n",
       "      <td>576.653123</td>\n",
       "      <td>0.019358</td>\n",
       "      <td>31.109769</td>\n",
       "      <td>14.713252</td>\n",
       "    </tr>\n",
       "    <tr>\n",
       "      <th>min</th>\n",
       "      <td>0.000000</td>\n",
       "      <td>3.100000</td>\n",
       "      <td>0.000000</td>\n",
       "      <td>0.000000</td>\n",
       "      <td>7.000000</td>\n",
       "      <td>78.000000</td>\n",
       "      <td>0.003000</td>\n",
       "      <td>9.000000</td>\n",
       "      <td>8.000000</td>\n",
       "    </tr>\n",
       "    <tr>\n",
       "      <th>25%</th>\n",
       "      <td>6.000000</td>\n",
       "      <td>13.100000</td>\n",
       "      <td>0.000000</td>\n",
       "      <td>1.400000</td>\n",
       "      <td>36.000000</td>\n",
       "      <td>904.500000</td>\n",
       "      <td>0.026000</td>\n",
       "      <td>36.000000</td>\n",
       "      <td>20.000000</td>\n",
       "    </tr>\n",
       "    <tr>\n",
       "      <th>50%</th>\n",
       "      <td>12.000000</td>\n",
       "      <td>16.800000</td>\n",
       "      <td>0.000000</td>\n",
       "      <td>2.400000</td>\n",
       "      <td>50.000000</td>\n",
       "      <td>1587.000000</td>\n",
       "      <td>0.039000</td>\n",
       "      <td>52.000000</td>\n",
       "      <td>26.000000</td>\n",
       "    </tr>\n",
       "    <tr>\n",
       "      <th>75%</th>\n",
       "      <td>18.000000</td>\n",
       "      <td>20.300000</td>\n",
       "      <td>0.000000</td>\n",
       "      <td>3.400000</td>\n",
       "      <td>67.000000</td>\n",
       "      <td>1994.000000</td>\n",
       "      <td>0.052000</td>\n",
       "      <td>70.000000</td>\n",
       "      <td>37.000000</td>\n",
       "    </tr>\n",
       "    <tr>\n",
       "      <th>max</th>\n",
       "      <td>23.000000</td>\n",
       "      <td>30.000000</td>\n",
       "      <td>1.000000</td>\n",
       "      <td>8.000000</td>\n",
       "      <td>99.000000</td>\n",
       "      <td>2000.000000</td>\n",
       "      <td>0.125000</td>\n",
       "      <td>269.000000</td>\n",
       "      <td>90.000000</td>\n",
       "    </tr>\n",
       "  </tbody>\n",
       "</table>\n",
       "</div>"
      ],
      "text/plain": [
       "              hour  hour_bef_temperature  hour_bef_precipitation  \\\n",
       "count  1342.000000           1342.000000             1342.000000   \n",
       "mean     11.918778             16.894262                0.029806   \n",
       "std       6.744852              5.195518                0.170116   \n",
       "min       0.000000              3.100000                0.000000   \n",
       "25%       6.000000             13.100000                0.000000   \n",
       "50%      12.000000             16.800000                0.000000   \n",
       "75%      18.000000             20.300000                0.000000   \n",
       "max      23.000000             30.000000                1.000000   \n",
       "\n",
       "       hour_bef_windspeed  hour_bef_humidity  hour_bef_visibility  \\\n",
       "count         1342.000000        1342.000000          1342.000000   \n",
       "mean             2.494188          51.627422          1417.240686   \n",
       "std              1.379474          20.144847           576.653123   \n",
       "min              0.000000           7.000000            78.000000   \n",
       "25%              1.400000          36.000000           904.500000   \n",
       "50%              2.400000          50.000000          1587.000000   \n",
       "75%              3.400000          67.000000          1994.000000   \n",
       "max              8.000000          99.000000          2000.000000   \n",
       "\n",
       "       hour_bef_ozone  hour_bef_pm10  hour_bef_pm2.5  \n",
       "count     1342.000000    1342.000000     1342.000000  \n",
       "mean         0.039152      57.351094       30.327124  \n",
       "std          0.019358      31.109769       14.713252  \n",
       "min          0.003000       9.000000        8.000000  \n",
       "25%          0.026000      36.000000       20.000000  \n",
       "50%          0.039000      52.000000       26.000000  \n",
       "75%          0.052000      70.000000       37.000000  \n",
       "max          0.125000     269.000000       90.000000  "
      ]
     },
     "execution_count": 13,
     "metadata": {},
     "output_type": "execute_result"
    }
   ],
   "source": [
    "x.describe()"
   ]
  },
  {
   "cell_type": "code",
   "execution_count": 14,
   "metadata": {},
   "outputs": [
    {
     "data": {
      "text/plain": [
       "count    1342.000000\n",
       "mean      111.166915\n",
       "std        83.021073\n",
       "min         1.000000\n",
       "25%        37.000000\n",
       "50%       101.000000\n",
       "75%       154.000000\n",
       "max       431.000000\n",
       "Name: count, dtype: float64"
      ]
     },
     "execution_count": 14,
     "metadata": {},
     "output_type": "execute_result"
    }
   ],
   "source": [
    "y.describe()"
   ]
  },
  {
   "cell_type": "markdown",
   "metadata": {},
   "source": [
    "## 1-2) 다중공선성 확인"
   ]
  },
  {
   "cell_type": "markdown",
   "metadata": {},
   "source": [
    "#### 1 heatmap을 그리고 이를 통해 상관관계가 제일 큰 두개의 변수 중 종속변수(y)와 상관관계가 더 낮은 변수 제거\n",
    "* 이때 하나의 변수가 제거된 X를 X2로 새로 지정"
   ]
  },
  {
   "cell_type": "code",
   "execution_count": 15,
   "metadata": {},
   "outputs": [
    {
     "data": {
      "image/png": "[encoded data removed]",
      "text/plain": [
       "<Figure size 432x288 with 2 Axes>"
      ]
     },
     "metadata": {
      "needs_background": "light"
     },
     "output_type": "display_data"
    }
   ],
   "source": [
    "cmap = sns.light_palette(color=\"black\", as_cmap=True)\n",
    "# as_cmap=True : 반환되는 값이 컬러맵 객체가 됨\n",
    "sns.heatmap(x.corr(), annot=True, cmap=cmap)\n",
    "# annot=True : 숫자 표시\n",
    "plt.show()"
   ]
  },
  {
   "cell_type": "code",
   "execution_count": 55,
   "metadata": {},
   "outputs": [
    {
     "data": {
      "text/plain": [
       "hour                      0.622092\n",
       "hour_bef_temperature      0.610744\n",
       "hour_bef_precipitation   -0.159124\n",
       "hour_bef_windspeed        0.458143\n",
       "hour_bef_humidity        -0.461788\n",
       "hour_bef_visibility       0.306605\n",
       "hour_bef_ozone            0.466119\n",
       "hour_bef_pm10            -0.135949\n",
       "hour_bef_pm2.5           -0.134293\n",
       "dtype: float64"
      ]
     },
     "execution_count": 55,
     "metadata": {},
     "output_type": "execute_result"
    }
   ],
   "source": [
    "# correlation between visibility & pm2.5 = -0.64\n",
    "# visibility와 pm2.5 비교\n",
    "x.corrwith(other=y)"
   ]
  },
  {
   "cell_type": "code",
   "execution_count": 56,
   "metadata": {},
   "outputs": [],
   "source": [
    "# corr visibility = 0.306605 > corr pm2.5 = -0.134293\n",
    "# drop hour_bef_pm2.5\n",
    "x2 = x.drop(['hour_bef_pm2.5'], axis=1)"
   ]
  },
  {
   "cell_type": "code",
   "execution_count": 57,
   "metadata": {},
   "outputs": [
    {
     "data": {
      "text/html": [
       "<div>\n",
       "<style scoped>\n",
       "    .dataframe tbody tr th:only-of-type {\n",
       "        vertical-align: middle;\n",
       "    }\n",
       "\n",
       "    .dataframe tbody tr th {\n",
       "        vertical-align: top;\n",
       "    }\n",
       "\n",
       "    .dataframe thead th {\n",
       "        text-align: right;\n",
       "    }\n",
       "</style>\n",
       "<table border=\"1\" class=\"dataframe\">\n",
       "  <thead>\n",
       "    <tr style=\"text-align: right;\">\n",
       "      <th></th>\n",
       "      <th>hour</th>\n",
       "      <th>hour_bef_temperature</th>\n",
       "      <th>hour_bef_precipitation</th>\n",
       "      <th>hour_bef_windspeed</th>\n",
       "      <th>hour_bef_humidity</th>\n",
       "      <th>hour_bef_visibility</th>\n",
       "      <th>hour_bef_ozone</th>\n",
       "      <th>hour_bef_pm10</th>\n",
       "    </tr>\n",
       "  </thead>\n",
       "  <tbody>\n",
       "    <tr>\n",
       "      <th>0</th>\n",
       "      <td>20</td>\n",
       "      <td>16.3</td>\n",
       "      <td>1.0</td>\n",
       "      <td>1.5</td>\n",
       "      <td>89.0</td>\n",
       "      <td>576.0</td>\n",
       "      <td>0.027</td>\n",
       "      <td>76.0</td>\n",
       "    </tr>\n",
       "    <tr>\n",
       "      <th>1</th>\n",
       "      <td>13</td>\n",
       "      <td>20.1</td>\n",
       "      <td>0.0</td>\n",
       "      <td>1.4</td>\n",
       "      <td>48.0</td>\n",
       "      <td>916.0</td>\n",
       "      <td>0.042</td>\n",
       "      <td>73.0</td>\n",
       "    </tr>\n",
       "    <tr>\n",
       "      <th>2</th>\n",
       "      <td>6</td>\n",
       "      <td>13.9</td>\n",
       "      <td>0.0</td>\n",
       "      <td>0.7</td>\n",
       "      <td>79.0</td>\n",
       "      <td>1382.0</td>\n",
       "      <td>0.033</td>\n",
       "      <td>32.0</td>\n",
       "    </tr>\n",
       "    <tr>\n",
       "      <th>3</th>\n",
       "      <td>23</td>\n",
       "      <td>8.1</td>\n",
       "      <td>0.0</td>\n",
       "      <td>2.7</td>\n",
       "      <td>54.0</td>\n",
       "      <td>946.0</td>\n",
       "      <td>0.040</td>\n",
       "      <td>75.0</td>\n",
       "    </tr>\n",
       "    <tr>\n",
       "      <th>4</th>\n",
       "      <td>18</td>\n",
       "      <td>29.5</td>\n",
       "      <td>0.0</td>\n",
       "      <td>4.8</td>\n",
       "      <td>7.0</td>\n",
       "      <td>2000.0</td>\n",
       "      <td>0.057</td>\n",
       "      <td>27.0</td>\n",
       "    </tr>\n",
       "    <tr>\n",
       "      <th>...</th>\n",
       "      <td>...</td>\n",
       "      <td>...</td>\n",
       "      <td>...</td>\n",
       "      <td>...</td>\n",
       "      <td>...</td>\n",
       "      <td>...</td>\n",
       "      <td>...</td>\n",
       "      <td>...</td>\n",
       "    </tr>\n",
       "    <tr>\n",
       "      <th>1337</th>\n",
       "      <td>4</td>\n",
       "      <td>16.8</td>\n",
       "      <td>0.0</td>\n",
       "      <td>1.6</td>\n",
       "      <td>53.0</td>\n",
       "      <td>2000.0</td>\n",
       "      <td>0.031</td>\n",
       "      <td>37.0</td>\n",
       "    </tr>\n",
       "    <tr>\n",
       "      <th>1338</th>\n",
       "      <td>3</td>\n",
       "      <td>10.8</td>\n",
       "      <td>0.0</td>\n",
       "      <td>3.8</td>\n",
       "      <td>45.0</td>\n",
       "      <td>2000.0</td>\n",
       "      <td>0.039</td>\n",
       "      <td>34.0</td>\n",
       "    </tr>\n",
       "    <tr>\n",
       "      <th>1339</th>\n",
       "      <td>5</td>\n",
       "      <td>18.3</td>\n",
       "      <td>0.0</td>\n",
       "      <td>1.9</td>\n",
       "      <td>54.0</td>\n",
       "      <td>2000.0</td>\n",
       "      <td>0.009</td>\n",
       "      <td>30.0</td>\n",
       "    </tr>\n",
       "    <tr>\n",
       "      <th>1340</th>\n",
       "      <td>21</td>\n",
       "      <td>20.7</td>\n",
       "      <td>0.0</td>\n",
       "      <td>3.7</td>\n",
       "      <td>37.0</td>\n",
       "      <td>1395.0</td>\n",
       "      <td>0.082</td>\n",
       "      <td>71.0</td>\n",
       "    </tr>\n",
       "    <tr>\n",
       "      <th>1341</th>\n",
       "      <td>17</td>\n",
       "      <td>21.1</td>\n",
       "      <td>0.0</td>\n",
       "      <td>3.1</td>\n",
       "      <td>47.0</td>\n",
       "      <td>1973.0</td>\n",
       "      <td>0.046</td>\n",
       "      <td>38.0</td>\n",
       "    </tr>\n",
       "  </tbody>\n",
       "</table>\n",
       "<p>1342 rows × 8 columns</p>\n",
       "</div>"
      ],
      "text/plain": [
       "      hour  hour_bef_temperature  hour_bef_precipitation  hour_bef_windspeed  \\\n",
       "0       20                  16.3                     1.0                 1.5   \n",
       "1       13                  20.1                     0.0                 1.4   \n",
       "2        6                  13.9                     0.0                 0.7   \n",
       "3       23                   8.1                     0.0                 2.7   \n",
       "4       18                  29.5                     0.0                 4.8   \n",
       "...    ...                   ...                     ...                 ...   \n",
       "1337     4                  16.8                     0.0                 1.6   \n",
       "1338     3                  10.8                     0.0                 3.8   \n",
       "1339     5                  18.3                     0.0                 1.9   \n",
       "1340    21                  20.7                     0.0                 3.7   \n",
       "1341    17                  21.1                     0.0                 3.1   \n",
       "\n",
       "      hour_bef_humidity  hour_bef_visibility  hour_bef_ozone  hour_bef_pm10  \n",
       "0                  89.0                576.0           0.027           76.0  \n",
       "1                  48.0                916.0           0.042           73.0  \n",
       "2                  79.0               1382.0           0.033           32.0  \n",
       "3                  54.0                946.0           0.040           75.0  \n",
       "4                   7.0               2000.0           0.057           27.0  \n",
       "...                 ...                  ...             ...            ...  \n",
       "1337               53.0               2000.0           0.031           37.0  \n",
       "1338               45.0               2000.0           0.039           34.0  \n",
       "1339               54.0               2000.0           0.009           30.0  \n",
       "1340               37.0               1395.0           0.082           71.0  \n",
       "1341               47.0               1973.0           0.046           38.0  \n",
       "\n",
       "[1342 rows x 8 columns]"
      ]
     },
     "execution_count": 57,
     "metadata": {},
     "output_type": "execute_result"
    }
   ],
   "source": [
    "x2"
   ]
  },
  {
   "cell_type": "markdown",
   "metadata": {},
   "source": [
    "#### 2 VIF를 통해 다중공선성 위험이 제일 큰 변수 한개를 제거\n",
    "* 이때 X가 아닌 heatmap을 통해 변수 한개를 제거한 X2를 통해 VIF 계산\n",
    "* 변수 제거 후에는 X3로 새로 지정\n"
   ]
  },
  {
   "cell_type": "code",
   "execution_count": 58,
   "metadata": {},
   "outputs": [
    {
     "data": {
      "text/html": [
       "<div>\n",
       "<style scoped>\n",
       "    .dataframe tbody tr th:only-of-type {\n",
       "        vertical-align: middle;\n",
       "    }\n",
       "\n",
       "    .dataframe tbody tr th {\n",
       "        vertical-align: top;\n",
       "    }\n",
       "\n",
       "    .dataframe thead th {\n",
       "        text-align: right;\n",
       "    }\n",
       "</style>\n",
       "<table border=\"1\" class=\"dataframe\">\n",
       "  <thead>\n",
       "    <tr style=\"text-align: right;\">\n",
       "      <th></th>\n",
       "      <th>features</th>\n",
       "      <th>VIF factor</th>\n",
       "    </tr>\n",
       "  </thead>\n",
       "  <tbody>\n",
       "    <tr>\n",
       "      <th>0</th>\n",
       "      <td>hour</td>\n",
       "      <td>5.777988</td>\n",
       "    </tr>\n",
       "    <tr>\n",
       "      <th>1</th>\n",
       "      <td>hour_bef_temperature</td>\n",
       "      <td>15.104114</td>\n",
       "    </tr>\n",
       "    <tr>\n",
       "      <th>2</th>\n",
       "      <td>hour_bef_precipitation</td>\n",
       "      <td>1.145521</td>\n",
       "    </tr>\n",
       "    <tr>\n",
       "      <th>3</th>\n",
       "      <td>hour_bef_windspeed</td>\n",
       "      <td>6.950266</td>\n",
       "    </tr>\n",
       "    <tr>\n",
       "      <th>4</th>\n",
       "      <td>hour_bef_humidity</td>\n",
       "      <td>4.318150</td>\n",
       "    </tr>\n",
       "    <tr>\n",
       "      <th>5</th>\n",
       "      <td>hour_bef_visibility</td>\n",
       "      <td>6.589934</td>\n",
       "    </tr>\n",
       "    <tr>\n",
       "      <th>6</th>\n",
       "      <td>hour_bef_ozone</td>\n",
       "      <td>8.710461</td>\n",
       "    </tr>\n",
       "    <tr>\n",
       "      <th>7</th>\n",
       "      <td>hour_bef_pm10</td>\n",
       "      <td>4.022496</td>\n",
       "    </tr>\n",
       "  </tbody>\n",
       "</table>\n",
       "</div>"
      ],
      "text/plain": [
       "                 features  VIF factor\n",
       "0                    hour    5.777988\n",
       "1    hour_bef_temperature   15.104114\n",
       "2  hour_bef_precipitation    1.145521\n",
       "3      hour_bef_windspeed    6.950266\n",
       "4       hour_bef_humidity    4.318150\n",
       "5     hour_bef_visibility    6.589934\n",
       "6          hour_bef_ozone    8.710461\n",
       "7           hour_bef_pm10    4.022496"
      ]
     },
     "execution_count": 58,
     "metadata": {},
     "output_type": "execute_result"
    }
   ],
   "source": [
    "vif = pd.DataFrame()\n",
    "vif[\"features\"] = x2.columns\n",
    "vif[\"VIF factor\"] = [variance_inflation_factor(x2.values, i) for i in range(x2.shape[1])]\n",
    "vif"
   ]
  },
  {
   "cell_type": "code",
   "execution_count": 59,
   "metadata": {},
   "outputs": [
    {
     "data": {
      "text/html": [
       "<div>\n",
       "<style scoped>\n",
       "    .dataframe tbody tr th:only-of-type {\n",
       "        vertical-align: middle;\n",
       "    }\n",
       "\n",
       "    .dataframe tbody tr th {\n",
       "        vertical-align: top;\n",
       "    }\n",
       "\n",
       "    .dataframe thead th {\n",
       "        text-align: right;\n",
       "    }\n",
       "</style>\n",
       "<table border=\"1\" class=\"dataframe\">\n",
       "  <thead>\n",
       "    <tr style=\"text-align: right;\">\n",
       "      <th></th>\n",
       "      <th>hour</th>\n",
       "      <th>hour_bef_precipitation</th>\n",
       "      <th>hour_bef_windspeed</th>\n",
       "      <th>hour_bef_humidity</th>\n",
       "      <th>hour_bef_visibility</th>\n",
       "      <th>hour_bef_ozone</th>\n",
       "      <th>hour_bef_pm10</th>\n",
       "    </tr>\n",
       "  </thead>\n",
       "  <tbody>\n",
       "    <tr>\n",
       "      <th>0</th>\n",
       "      <td>20</td>\n",
       "      <td>1.0</td>\n",
       "      <td>1.5</td>\n",
       "      <td>89.0</td>\n",
       "      <td>576.0</td>\n",
       "      <td>0.027</td>\n",
       "      <td>76.0</td>\n",
       "    </tr>\n",
       "    <tr>\n",
       "      <th>1</th>\n",
       "      <td>13</td>\n",
       "      <td>0.0</td>\n",
       "      <td>1.4</td>\n",
       "      <td>48.0</td>\n",
       "      <td>916.0</td>\n",
       "      <td>0.042</td>\n",
       "      <td>73.0</td>\n",
       "    </tr>\n",
       "    <tr>\n",
       "      <th>2</th>\n",
       "      <td>6</td>\n",
       "      <td>0.0</td>\n",
       "      <td>0.7</td>\n",
       "      <td>79.0</td>\n",
       "      <td>1382.0</td>\n",
       "      <td>0.033</td>\n",
       "      <td>32.0</td>\n",
       "    </tr>\n",
       "    <tr>\n",
       "      <th>3</th>\n",
       "      <td>23</td>\n",
       "      <td>0.0</td>\n",
       "      <td>2.7</td>\n",
       "      <td>54.0</td>\n",
       "      <td>946.0</td>\n",
       "      <td>0.040</td>\n",
       "      <td>75.0</td>\n",
       "    </tr>\n",
       "    <tr>\n",
       "      <th>4</th>\n",
       "      <td>18</td>\n",
       "      <td>0.0</td>\n",
       "      <td>4.8</td>\n",
       "      <td>7.0</td>\n",
       "      <td>2000.0</td>\n",
       "      <td>0.057</td>\n",
       "      <td>27.0</td>\n",
       "    </tr>\n",
       "    <tr>\n",
       "      <th>...</th>\n",
       "      <td>...</td>\n",
       "      <td>...</td>\n",
       "      <td>...</td>\n",
       "      <td>...</td>\n",
       "      <td>...</td>\n",
       "      <td>...</td>\n",
       "      <td>...</td>\n",
       "    </tr>\n",
       "    <tr>\n",
       "      <th>1337</th>\n",
       "      <td>4</td>\n",
       "      <td>0.0</td>\n",
       "      <td>1.6</td>\n",
       "      <td>53.0</td>\n",
       "      <td>2000.0</td>\n",
       "      <td>0.031</td>\n",
       "      <td>37.0</td>\n",
       "    </tr>\n",
       "    <tr>\n",
       "      <th>1338</th>\n",
       "      <td>3</td>\n",
       "      <td>0.0</td>\n",
       "      <td>3.8</td>\n",
       "      <td>45.0</td>\n",
       "      <td>2000.0</td>\n",
       "      <td>0.039</td>\n",
       "      <td>34.0</td>\n",
       "    </tr>\n",
       "    <tr>\n",
       "      <th>1339</th>\n",
       "      <td>5</td>\n",
       "      <td>0.0</td>\n",
       "      <td>1.9</td>\n",
       "      <td>54.0</td>\n",
       "      <td>2000.0</td>\n",
       "      <td>0.009</td>\n",
       "      <td>30.0</td>\n",
       "    </tr>\n",
       "    <tr>\n",
       "      <th>1340</th>\n",
       "      <td>21</td>\n",
       "      <td>0.0</td>\n",
       "      <td>3.7</td>\n",
       "      <td>37.0</td>\n",
       "      <td>1395.0</td>\n",
       "      <td>0.082</td>\n",
       "      <td>71.0</td>\n",
       "    </tr>\n",
       "    <tr>\n",
       "      <th>1341</th>\n",
       "      <td>17</td>\n",
       "      <td>0.0</td>\n",
       "      <td>3.1</td>\n",
       "      <td>47.0</td>\n",
       "      <td>1973.0</td>\n",
       "      <td>0.046</td>\n",
       "      <td>38.0</td>\n",
       "    </tr>\n",
       "  </tbody>\n",
       "</table>\n",
       "<p>1342 rows × 7 columns</p>\n",
       "</div>"
      ],
      "text/plain": [
       "      hour  hour_bef_precipitation  hour_bef_windspeed  hour_bef_humidity  \\\n",
       "0       20                     1.0                 1.5               89.0   \n",
       "1       13                     0.0                 1.4               48.0   \n",
       "2        6                     0.0                 0.7               79.0   \n",
       "3       23                     0.0                 2.7               54.0   \n",
       "4       18                     0.0                 4.8                7.0   \n",
       "...    ...                     ...                 ...                ...   \n",
       "1337     4                     0.0                 1.6               53.0   \n",
       "1338     3                     0.0                 3.8               45.0   \n",
       "1339     5                     0.0                 1.9               54.0   \n",
       "1340    21                     0.0                 3.7               37.0   \n",
       "1341    17                     0.0                 3.1               47.0   \n",
       "\n",
       "      hour_bef_visibility  hour_bef_ozone  hour_bef_pm10  \n",
       "0                   576.0           0.027           76.0  \n",
       "1                   916.0           0.042           73.0  \n",
       "2                  1382.0           0.033           32.0  \n",
       "3                   946.0           0.040           75.0  \n",
       "4                  2000.0           0.057           27.0  \n",
       "...                   ...             ...            ...  \n",
       "1337               2000.0           0.031           37.0  \n",
       "1338               2000.0           0.039           34.0  \n",
       "1339               2000.0           0.009           30.0  \n",
       "1340               1395.0           0.082           71.0  \n",
       "1341               1973.0           0.046           38.0  \n",
       "\n",
       "[1342 rows x 7 columns]"
      ]
     },
     "execution_count": 59,
     "metadata": {},
     "output_type": "execute_result"
    }
   ],
   "source": [
    "x3 = x2.drop(['hour_bef_temperature'], axis=1)\n",
    "x3"
   ]
  },
  {
   "cell_type": "markdown",
   "metadata": {},
   "source": [
    "#### 3 heatmap, VIF를 통해 다중공선성이 제거된 데이터로 statsmodel을 통해 summary 출력"
   ]
  },
  {
   "cell_type": "code",
   "execution_count": 60,
   "metadata": {},
   "outputs": [],
   "source": [
    "vifx3 = sm.add_constant(x3, has_constant='add')\n",
    "lin_model_1 = sm.OLS(y, vifx3)\n",
    "lin_model_1 = lin_model_1.fit()"
   ]
  },
  {
   "cell_type": "code",
   "execution_count": 61,
   "metadata": {},
   "outputs": [
    {
     "data": {
      "text/html": [
       "<table class=\"simpletable\">\n",
       "<caption>OLS Regression Results</caption>\n",
       "<tr>\n",
       "  <th>Dep. Variable:</th>          <td>count</td>      <th>  R-squared:         </th> <td>   0.528</td> \n",
       "</tr>\n",
       "<tr>\n",
       "  <th>Model:</th>                   <td>OLS</td>       <th>  Adj. R-squared:    </th> <td>   0.526</td> \n",
       "</tr>\n",
       "<tr>\n",
       "  <th>Method:</th>             <td>Least Squares</td>  <th>  F-statistic:       </th> <td>   213.3</td> \n",
       "</tr>\n",
       "<tr>\n",
       "  <th>Date:</th>             <td>Mon, 10 Oct 2022</td> <th>  Prob (F-statistic):</th> <td>2.05e-212</td>\n",
       "</tr>\n",
       "<tr>\n",
       "  <th>Time:</th>                 <td>00:21:34</td>     <th>  Log-Likelihood:    </th> <td> -7330.2</td> \n",
       "</tr>\n",
       "<tr>\n",
       "  <th>No. Observations:</th>      <td>  1342</td>      <th>  AIC:               </th> <td>1.468e+04</td>\n",
       "</tr>\n",
       "<tr>\n",
       "  <th>Df Residuals:</th>          <td>  1334</td>      <th>  BIC:               </th> <td>1.472e+04</td>\n",
       "</tr>\n",
       "<tr>\n",
       "  <th>Df Model:</th>              <td>     7</td>      <th>                     </th>     <td> </td>    \n",
       "</tr>\n",
       "<tr>\n",
       "  <th>Covariance Type:</th>      <td>nonrobust</td>    <th>                     </th>     <td> </td>    \n",
       "</tr>\n",
       "</table>\n",
       "<table class=\"simpletable\">\n",
       "<tr>\n",
       "             <td></td>               <th>coef</th>     <th>std err</th>      <th>t</th>      <th>P>|t|</th>  <th>[0.025</th>    <th>0.975]</th>  \n",
       "</tr>\n",
       "<tr>\n",
       "  <th>const</th>                  <td>   90.3967</td> <td>   15.571</td> <td>    5.805</td> <td> 0.000</td> <td>   59.849</td> <td>  120.944</td>\n",
       "</tr>\n",
       "<tr>\n",
       "  <th>hour</th>                   <td>    5.5269</td> <td>    0.269</td> <td>   20.510</td> <td> 0.000</td> <td>    4.998</td> <td>    6.056</td>\n",
       "</tr>\n",
       "<tr>\n",
       "  <th>hour_bef_precipitation</th> <td>  -57.2426</td> <td>    9.678</td> <td>   -5.915</td> <td> 0.000</td> <td>  -76.229</td> <td>  -38.257</td>\n",
       "</tr>\n",
       "<tr>\n",
       "  <th>hour_bef_windspeed</th>     <td>    4.8049</td> <td>    1.451</td> <td>    3.312</td> <td> 0.001</td> <td>    1.959</td> <td>    7.651</td>\n",
       "</tr>\n",
       "<tr>\n",
       "  <th>hour_bef_humidity</th>      <td>   -0.9260</td> <td>    0.124</td> <td>   -7.483</td> <td> 0.000</td> <td>   -1.169</td> <td>   -0.683</td>\n",
       "</tr>\n",
       "<tr>\n",
       "  <th>hour_bef_visibility</th>    <td>   -0.0069</td> <td>    0.004</td> <td>   -1.616</td> <td> 0.106</td> <td>   -0.015</td> <td>    0.001</td>\n",
       "</tr>\n",
       "<tr>\n",
       "  <th>hour_bef_ozone</th>         <td>  742.2018</td> <td>  100.840</td> <td>    7.360</td> <td> 0.000</td> <td>  544.380</td> <td>  940.024</td>\n",
       "</tr>\n",
       "<tr>\n",
       "  <th>hour_bef_pm10</th>          <td>   -0.4678</td> <td>    0.063</td> <td>   -7.441</td> <td> 0.000</td> <td>   -0.591</td> <td>   -0.344</td>\n",
       "</tr>\n",
       "</table>\n",
       "<table class=\"simpletable\">\n",
       "<tr>\n",
       "  <th>Omnibus:</th>       <td>148.683</td> <th>  Durbin-Watson:     </th> <td>   2.001</td>\n",
       "</tr>\n",
       "<tr>\n",
       "  <th>Prob(Omnibus):</th> <td> 0.000</td>  <th>  Jarque-Bera (JB):  </th> <td> 215.606</td>\n",
       "</tr>\n",
       "<tr>\n",
       "  <th>Skew:</th>          <td> 0.817</td>  <th>  Prob(JB):          </th> <td>1.52e-47</td>\n",
       "</tr>\n",
       "<tr>\n",
       "  <th>Kurtosis:</th>      <td> 4.088</td>  <th>  Cond. No.          </th> <td>9.91e+04</td>\n",
       "</tr>\n",
       "</table><br/><br/>Notes:<br/>[1] Standard Errors assume that the covariance matrix of the errors is correctly specified.<br/>[2] The condition number is large, 9.91e+04. This might indicate that there are<br/>strong multicollinearity or other numerical problems."
      ],
      "text/plain": [
       "<class 'statsmodels.iolib.summary.Summary'>\n",
       "\"\"\"\n",
       "                            OLS Regression Results                            \n",
       "==============================================================================\n",
       "Dep. Variable:                  count   R-squared:                       0.528\n",
       "Model:                            OLS   Adj. R-squared:                  0.526\n",
       "Method:                 Least Squares   F-statistic:                     213.3\n",
       "Date:                Mon, 10 Oct 2022   Prob (F-statistic):          2.05e-212\n",
       "Time:                        00:21:34   Log-Likelihood:                -7330.2\n",
       "No. Observations:                1342   AIC:                         1.468e+04\n",
       "Df Residuals:                    1334   BIC:                         1.472e+04\n",
       "Df Model:                           7                                         \n",
       "Covariance Type:            nonrobust                                         \n",
       "==========================================================================================\n",
       "                             coef    std err          t      P>|t|      [0.025      0.975]\n",
       "------------------------------------------------------------------------------------------\n",
       "const                     90.3967     15.571      5.805      0.000      59.849     120.944\n",
       "hour                       5.5269      0.269     20.510      0.000       4.998       6.056\n",
       "hour_bef_precipitation   -57.2426      9.678     -5.915      0.000     -76.229     -38.257\n",
       "hour_bef_windspeed         4.8049      1.451      3.312      0.001       1.959       7.651\n",
       "hour_bef_humidity         -0.9260      0.124     -7.483      0.000      -1.169      -0.683\n",
       "hour_bef_visibility       -0.0069      0.004     -1.616      0.106      -0.015       0.001\n",
       "hour_bef_ozone           742.2018    100.840      7.360      0.000     544.380     940.024\n",
       "hour_bef_pm10             -0.4678      0.063     -7.441      0.000      -0.591      -0.344\n",
       "==============================================================================\n",
       "Omnibus:                      148.683   Durbin-Watson:                   2.001\n",
       "Prob(Omnibus):                  0.000   Jarque-Bera (JB):              215.606\n",
       "Skew:                           0.817   Prob(JB):                     1.52e-47\n",
       "Kurtosis:                       4.088   Cond. No.                     9.91e+04\n",
       "==============================================================================\n",
       "\n",
       "Notes:\n",
       "[1] Standard Errors assume that the covariance matrix of the errors is correctly specified.\n",
       "[2] The condition number is large, 9.91e+04. This might indicate that there are\n",
       "strong multicollinearity or other numerical problems.\n",
       "\"\"\""
      ]
     },
     "execution_count": 61,
     "metadata": {},
     "output_type": "execute_result"
    }
   ],
   "source": [
    "lin_model_1.summary()"
   ]
  },
  {
   "cell_type": "markdown",
   "metadata": {},
   "source": [
    "## 1-3) K-Fold 통한 성능평가"
   ]
  },
  {
   "cell_type": "markdown",
   "metadata": {},
   "source": [
    "#### 1. 학습, 테스트 데이터 8:2비율로 분할 \n",
    "* random state=0 으로 지정"
   ]
  },
  {
   "cell_type": "code",
   "execution_count": 62,
   "metadata": {},
   "outputs": [],
   "source": [
    "train_x, test_x, train_y, test_y = train_test_split(x3, y, train_size=0.8, test_size=0.2, random_state=1)"
   ]
  },
  {
   "cell_type": "markdown",
   "metadata": {},
   "source": [
    "#### 2.  Ridge, Lasso 모델을 하이퍼라미터 값을 변경해가면서 10-Fold를 통해 학습데이터 평가 \n",
    "* 하이퍼라미터 후보 : alpha = [0.001, 0.01, 0.1, 1, 10]\n",
    "* 평가지표 : R2 score"
   ]
  },
  {
   "cell_type": "code",
   "execution_count": 63,
   "metadata": {},
   "outputs": [],
   "source": [
    "alpha_list = [0.001, 0.01, 0.1, 1, 10]\n",
    "\n",
    "ridge_r2_list_train=[]\n",
    "ridge_r2_list_test=[]\n",
    "\n",
    "lasso_r2_list_train=[]\n",
    "lasso_r2_list_test=[]\n",
    "\n",
    "for alpha in alpha_list:\n",
    "    lasso = Lasso(alpha=alpha)\n",
    "    ridge = Ridge(alpha=alpha)\n",
    "    \n",
    "    lasso_r2_list_train.append(np.mean(cross_val_score(lasso, train_x, train_y, scoring='r2',cv=KFold(n_splits=10, shuffle=True, random_state=1))))\n",
    "    ridge_r2_list_train.append(np.mean(cross_val_score(ridge, train_x, train_y, scoring='r2',cv=KFold(n_splits=10, shuffle=True, random_state=1))))\n"
   ]
  },
  {
   "cell_type": "code",
   "execution_count": 66,
   "metadata": {},
   "outputs": [
    {
     "name": "stdout",
     "output_type": "stream",
     "text": [
      "[0.5210119743807003, 0.5210891497730922, 0.5202813289188113, 0.5117126509953509, 0.5059275718641395]\n",
      "[0.5210088742095893, 0.5210337484815867, 0.5157893630999322, 0.49999854210882394, 0.4837702752003244]\n"
     ]
    },
    {
     "data": {
      "text/plain": [
       "<matplotlib.legend.Legend at 0x7fd2545778e0>"
      ]
     },
     "execution_count": 66,
     "metadata": {},
     "output_type": "execute_result"
    },
    {
     "data": {
      "image/png": "[encoded data removed]",
      "text/plain": [
       "<Figure size 432x288 with 1 Axes>"
      ]
     },
     "metadata": {
      "needs_background": "light"
     },
     "output_type": "display_data"
    }
   ],
   "source": [
    "print(ridge_r2_list_train)\n",
    "print(lasso_r2_list_train)\n",
    "\n",
    "plt.plot(alpha_list, lasso_r2_list_train, label='Lasso MSE Train')\n",
    "plt.plot(alpha_list, ridge_r2_list_train, label='Ridge MSE Train')\n",
    "plt.legend()"
   ]
  },
  {
   "cell_type": "markdown",
   "metadata": {},
   "source": [
    "#### 3. 학습데이터로 평가했을 때 가장 좋은 성능을 보인 하이퍼 파라미터값을 기준으로 Ridge, Lasso 모델을 만들어 테스트 데이터로 평가\n",
    "* 평가지표 : R2, MSE"
   ]
  },
  {
   "cell_type": "code",
   "execution_count": 67,
   "metadata": {
    "scrolled": true
   },
   "outputs": [
    {
     "name": "stdout",
     "output_type": "stream",
     "text": [
      "mse of lasso = 3389.730271309179\n",
      "mse of ridge = 3387.461356752851\n",
      "r2 of lasso = 0.47085661277641766\n",
      "r2 of ridge = 0.4712107946839924\n"
     ]
    }
   ],
   "source": [
    "best_lasso = Lasso(alpha=0.01)\n",
    "best_ridge = Ridge(alpha=0.01)\n",
    "\n",
    "best_lasso.fit(train_x, train_y)\n",
    "best_ridge.fit(train_x, train_y)\n",
    "\n",
    "lasso_mse_test = mean_squared_error(test_y, best_lasso.predict(test_x))\n",
    "ridge_mse_test = mean_squared_error(test_y, best_ridge.predict(test_x))\n",
    "lasso_r2_test = r2_score(test_y, best_lasso.predict(test_x))\n",
    "ridge_r2_test = r2_score(test_y, best_ridge.predict(test_x))\n",
    "\n",
    "print(f\"mse of lasso = {lasso_mse_test}\")\n",
    "print(f\"mse of ridge = {ridge_mse_test}\")\n",
    "print(f\"r2 of lasso = {lasso_r2_test}\")\n",
    "print(f\"r2 of ridge = {ridge_r2_test}\")"
   ]
  },
  {
   "cell_type": "markdown",
   "metadata": {},
   "source": [
    "# 2. Classification"
   ]
  },
  {
   "cell_type": "markdown",
   "metadata": {},
   "source": [
    "## 데이터 불러오기"
   ]
  },
  {
   "cell_type": "code",
   "execution_count": 84,
   "metadata": {},
   "outputs": [],
   "source": [
    "wine = pd.read_csv(\"./data/classification.csv\")"
   ]
  },
  {
   "cell_type": "markdown",
   "metadata": {},
   "source": [
    "## 2-1) 데이터 전처리"
   ]
  },
  {
   "cell_type": "markdown",
   "metadata": {},
   "source": [
    "#### 1. type값의 white, red를 숫자로 변경. 이때 white은 0 red는 1로 변경\n"
   ]
  },
  {
   "cell_type": "code",
   "execution_count": 85,
   "metadata": {},
   "outputs": [],
   "source": [
    "wine['type']=np.where(wine['type']=='white', 0, wine['type'])\n",
    "wine['type']=np.where(wine['type']=='red', 1, wine['type'])"
   ]
  },
  {
   "cell_type": "markdown",
   "metadata": {},
   "source": [
    "#### 2 type을 y, 나머지 변수를 X값으로 분할\n"
   ]
  },
  {
   "cell_type": "code",
   "execution_count": 86,
   "metadata": {},
   "outputs": [],
   "source": [
    "wx = wine.drop(['type'], axis=1, inplace=False)\n",
    "wy = wine['type']"
   ]
  },
  {
   "cell_type": "markdown",
   "metadata": {},
   "source": [
    "#### 3 X, y 를 8: 2로 데이터 분할(이때 y값 데이터가 불균형이 있다면 균일한 비율로 분할 진행)\n",
    "* random state = 1 로 고정"
   ]
  },
  {
   "cell_type": "code",
   "execution_count": 87,
   "metadata": {},
   "outputs": [],
   "source": [
    "train_wx, test_wx, train_wy, test_wy = train_test_split(wx, wy, train_size=0.8, random_state=1, stratify=wy)"
   ]
  },
  {
   "cell_type": "markdown",
   "metadata": {},
   "source": [
    "#### 4. X 데이터 Standard Scale 진행\n"
   ]
  },
  {
   "cell_type": "code",
   "execution_count": 88,
   "metadata": {},
   "outputs": [],
   "source": [
    "scale = StandardScaler()\n",
    "scale.fit(train_wx)\n",
    "\n",
    "train_wx = pd.DataFrame(scale.transform(train_wx), columns=train_wx.columns)\n",
    "test_wx = pd.DataFrame(scale.transform(test_wx), columns=test_wx.columns)"
   ]
  },
  {
   "cell_type": "markdown",
   "metadata": {},
   "source": [
    "#### 5. train_X와 train_y의 통계량 출력(describe 함수 사용)"
   ]
  },
  {
   "cell_type": "code",
   "execution_count": 89,
   "metadata": {},
   "outputs": [
    {
     "data": {
      "text/html": [
       "<div>\n",
       "<style scoped>\n",
       "    .dataframe tbody tr th:only-of-type {\n",
       "        vertical-align: middle;\n",
       "    }\n",
       "\n",
       "    .dataframe tbody tr th {\n",
       "        vertical-align: top;\n",
       "    }\n",
       "\n",
       "    .dataframe thead th {\n",
       "        text-align: right;\n",
       "    }\n",
       "</style>\n",
       "<table border=\"1\" class=\"dataframe\">\n",
       "  <thead>\n",
       "    <tr style=\"text-align: right;\">\n",
       "      <th></th>\n",
       "      <th>quality</th>\n",
       "      <th>fixed acidity</th>\n",
       "      <th>volatile acidity</th>\n",
       "      <th>citric acid</th>\n",
       "      <th>residual sugar</th>\n",
       "      <th>chlorides</th>\n",
       "      <th>free sulfur dioxide</th>\n",
       "      <th>total sulfur dioxide</th>\n",
       "      <th>density</th>\n",
       "      <th>pH</th>\n",
       "      <th>sulphates</th>\n",
       "      <th>alcohol</th>\n",
       "    </tr>\n",
       "  </thead>\n",
       "  <tbody>\n",
       "    <tr>\n",
       "      <th>count</th>\n",
       "      <td>4.397000e+03</td>\n",
       "      <td>4.397000e+03</td>\n",
       "      <td>4.397000e+03</td>\n",
       "      <td>4.397000e+03</td>\n",
       "      <td>4.397000e+03</td>\n",
       "      <td>4.397000e+03</td>\n",
       "      <td>4.397000e+03</td>\n",
       "      <td>4.397000e+03</td>\n",
       "      <td>4.397000e+03</td>\n",
       "      <td>4.397000e+03</td>\n",
       "      <td>4.397000e+03</td>\n",
       "      <td>4.397000e+03</td>\n",
       "    </tr>\n",
       "    <tr>\n",
       "      <th>mean</th>\n",
       "      <td>-2.565355e-16</td>\n",
       "      <td>2.053874e-16</td>\n",
       "      <td>4.565120e-17</td>\n",
       "      <td>-1.730983e-16</td>\n",
       "      <td>1.457404e-16</td>\n",
       "      <td>9.065853e-17</td>\n",
       "      <td>-5.650851e-17</td>\n",
       "      <td>-2.888549e-17</td>\n",
       "      <td>1.308361e-14</td>\n",
       "      <td>8.957028e-16</td>\n",
       "      <td>-4.131080e-16</td>\n",
       "      <td>-8.604039e-16</td>\n",
       "    </tr>\n",
       "    <tr>\n",
       "      <th>std</th>\n",
       "      <td>1.000114e+00</td>\n",
       "      <td>1.000114e+00</td>\n",
       "      <td>1.000114e+00</td>\n",
       "      <td>1.000114e+00</td>\n",
       "      <td>1.000114e+00</td>\n",
       "      <td>1.000114e+00</td>\n",
       "      <td>1.000114e+00</td>\n",
       "      <td>1.000114e+00</td>\n",
       "      <td>1.000114e+00</td>\n",
       "      <td>1.000114e+00</td>\n",
       "      <td>1.000114e+00</td>\n",
       "      <td>1.000114e+00</td>\n",
       "    </tr>\n",
       "    <tr>\n",
       "      <th>min</th>\n",
       "      <td>-3.222467e+00</td>\n",
       "      <td>-2.598173e+00</td>\n",
       "      <td>-1.590381e+00</td>\n",
       "      <td>-2.241634e+00</td>\n",
       "      <td>-1.026032e+00</td>\n",
       "      <td>-1.378994e+00</td>\n",
       "      <td>-1.655318e+00</td>\n",
       "      <td>-1.949450e+00</td>\n",
       "      <td>-2.546053e+00</td>\n",
       "      <td>-2.980231e+00</td>\n",
       "      <td>-2.084266e+00</td>\n",
       "      <td>-1.756277e+00</td>\n",
       "    </tr>\n",
       "    <tr>\n",
       "      <th>25%</th>\n",
       "      <td>-9.372983e-01</td>\n",
       "      <td>-6.390549e-01</td>\n",
       "      <td>-6.574173e-01</td>\n",
       "      <td>-4.871902e-01</td>\n",
       "      <td>-7.686988e-01</td>\n",
       "      <td>-5.270247e-01</td>\n",
       "      <td>-7.530840e-01</td>\n",
       "      <td>-6.657428e-01</td>\n",
       "      <td>-8.024685e-01</td>\n",
       "      <td>-6.798087e-01</td>\n",
       "      <td>-6.763825e-01</td>\n",
       "      <td>-8.397119e-01</td>\n",
       "    </tr>\n",
       "    <tr>\n",
       "      <th>50%</th>\n",
       "      <td>2.052857e-01</td>\n",
       "      <td>-1.688665e-01</td>\n",
       "      <td>-2.842318e-01</td>\n",
       "      <td>-6.612380e-02</td>\n",
       "      <td>-5.328097e-01</td>\n",
       "      <td>-2.626204e-01</td>\n",
       "      <td>-7.640875e-02</td>\n",
       "      <td>4.742779e-02</td>\n",
       "      <td>5.070277e-02</td>\n",
       "      <td>-5.807297e-02</td>\n",
       "      <td>-1.400458e-01</td>\n",
       "      <td>-1.731191e-01</td>\n",
       "    </tr>\n",
       "    <tr>\n",
       "      <th>75%</th>\n",
       "      <td>2.052857e-01</td>\n",
       "      <td>3.796867e-01</td>\n",
       "      <td>3.999417e-01</td>\n",
       "      <td>4.952981e-01</td>\n",
       "      <td>5.823022e-01</td>\n",
       "      <td>2.368100e-01</td>\n",
       "      <td>6.002665e-01</td>\n",
       "      <td>7.071106e-01</td>\n",
       "      <td>7.684500e-01</td>\n",
       "      <td>6.258363e-01</td>\n",
       "      <td>4.633329e-01</td>\n",
       "      <td>7.017840e-01</td>\n",
       "    </tr>\n",
       "    <tr>\n",
       "      <th>max</th>\n",
       "      <td>3.633038e+00</td>\n",
       "      <td>6.805595e+00</td>\n",
       "      <td>7.739257e+00</td>\n",
       "      <td>6.390228e+00</td>\n",
       "      <td>5.621750e+00</td>\n",
       "      <td>1.198811e+01</td>\n",
       "      <td>1.458489e+01</td>\n",
       "      <td>5.788451e+00</td>\n",
       "      <td>5.298383e+00</td>\n",
       "      <td>4.915813e+00</td>\n",
       "      <td>9.715140e+00</td>\n",
       "      <td>3.659790e+00</td>\n",
       "    </tr>\n",
       "  </tbody>\n",
       "</table>\n",
       "</div>"
      ],
      "text/plain": [
       "            quality  fixed acidity  volatile acidity   citric acid  \\\n",
       "count  4.397000e+03   4.397000e+03      4.397000e+03  4.397000e+03   \n",
       "mean  -2.565355e-16   2.053874e-16      4.565120e-17 -1.730983e-16   \n",
       "std    1.000114e+00   1.000114e+00      1.000114e+00  1.000114e+00   \n",
       "min   -3.222467e+00  -2.598173e+00     -1.590381e+00 -2.241634e+00   \n",
       "25%   -9.372983e-01  -6.390549e-01     -6.574173e-01 -4.871902e-01   \n",
       "50%    2.052857e-01  -1.688665e-01     -2.842318e-01 -6.612380e-02   \n",
       "75%    2.052857e-01   3.796867e-01      3.999417e-01  4.952981e-01   \n",
       "max    3.633038e+00   6.805595e+00      7.739257e+00  6.390228e+00   \n",
       "\n",
       "       residual sugar     chlorides  free sulfur dioxide  \\\n",
       "count    4.397000e+03  4.397000e+03         4.397000e+03   \n",
       "mean     1.457404e-16  9.065853e-17        -5.650851e-17   \n",
       "std      1.000114e+00  1.000114e+00         1.000114e+00   \n",
       "min     -1.026032e+00 -1.378994e+00        -1.655318e+00   \n",
       "25%     -7.686988e-01 -5.270247e-01        -7.530840e-01   \n",
       "50%     -5.328097e-01 -2.626204e-01        -7.640875e-02   \n",
       "75%      5.823022e-01  2.368100e-01         6.002665e-01   \n",
       "max      5.621750e+00  1.198811e+01         1.458489e+01   \n",
       "\n",
       "       total sulfur dioxide       density            pH     sulphates  \\\n",
       "count          4.397000e+03  4.397000e+03  4.397000e+03  4.397000e+03   \n",
       "mean          -2.888549e-17  1.308361e-14  8.957028e-16 -4.131080e-16   \n",
       "std            1.000114e+00  1.000114e+00  1.000114e+00  1.000114e+00   \n",
       "min           -1.949450e+00 -2.546053e+00 -2.980231e+00 -2.084266e+00   \n",
       "25%           -6.657428e-01 -8.024685e-01 -6.798087e-01 -6.763825e-01   \n",
       "50%            4.742779e-02  5.070277e-02 -5.807297e-02 -1.400458e-01   \n",
       "75%            7.071106e-01  7.684500e-01  6.258363e-01  4.633329e-01   \n",
       "max            5.788451e+00  5.298383e+00  4.915813e+00  9.715140e+00   \n",
       "\n",
       "            alcohol  \n",
       "count  4.397000e+03  \n",
       "mean  -8.604039e-16  \n",
       "std    1.000114e+00  \n",
       "min   -1.756277e+00  \n",
       "25%   -8.397119e-01  \n",
       "50%   -1.731191e-01  \n",
       "75%    7.017840e-01  \n",
       "max    3.659790e+00  "
      ]
     },
     "execution_count": 89,
     "metadata": {},
     "output_type": "execute_result"
    }
   ],
   "source": [
    "train_wx.describe()"
   ]
  },
  {
   "cell_type": "code",
   "execution_count": 90,
   "metadata": {
    "scrolled": true
   },
   "outputs": [
    {
     "data": {
      "text/plain": [
       "count     4397\n",
       "unique       2\n",
       "top          0\n",
       "freq      3327\n",
       "Name: type, dtype: int64"
      ]
     },
     "execution_count": 90,
     "metadata": {},
     "output_type": "execute_result"
    }
   ],
   "source": [
    "train_wy.describe()"
   ]
  },
  {
   "cell_type": "markdown",
   "metadata": {},
   "source": [
    "## 2-2) 모델 학습 및 평가"
   ]
  },
  {
   "cell_type": "markdown",
   "metadata": {},
   "source": [
    "#### 1. Logistic Regression과 KNN모델을 하이퍼 파라미터 값을 변경해가면서 10-Fold를 통해 학습데이터 평가 \n",
    "* Logistic Regression 하이퍼파라미터 후보 : C =0.01,0.1,1,10\n",
    "* KNN 하이퍼파라미터 후보 : n_neighbors = 1,3,5,7\n",
    "* 평가지표 : Recall\n"
   ]
  },
  {
   "cell_type": "code",
   "execution_count": 79,
   "metadata": {
    "scrolled": true
   },
   "outputs": [
    {
     "name": "stdout",
     "output_type": "stream",
     "text": [
      "Logistic Regression\t: [0.9760251472756977, 0.98623991126445, 0.9899599600282262, 0.9900750042760137]\n",
      "KNN \t\t\t: [0.987077463872559, 0.9871404248367615, 0.9871404248367612, 0.9891475147497488]\n"
     ]
    }
   ],
   "source": [
    "LR_hpar = [0.01, 0.1, 1, 10]\n",
    "KNN_hpar = [1, 3, 5, 7]\n",
    "\n",
    "LR_recall_list_train = []\n",
    "KNN_recall_list_train = []\n",
    "\n",
    "LR_recall_list_test = []\n",
    "KNN_recall_list_test = []\n",
    "\n",
    "for c in LR_hpar:\n",
    "    LR = LogisticRegression(C=c)\n",
    "    LR_recall_list_train.append(np.mean(cross_val_score(LR, train_wx, train_wy.astype('int'), scoring='recall', cv=KFold(n_splits=10, shuffle=True, random_state=1))))\n",
    "    \n",
    "for nn in KNN_hpar:\n",
    "    KNN = KNeighborsClassifier(n_neighbors = nn)\n",
    "    KNN_recall_list_train.append(np.mean(cross_val_score(KNN, train_wx, train_wy.astype('int'), scoring='recall', cv=KFold(n_splits=10, shuffle=True, random_state=1))))\n",
    "\n",
    "print(f\"Logistic Regression\\t: {LR_recall_list_train}\")\n",
    "print(f\"KNN \\t\\t\\t: {KNN_recall_list_train}\")"
   ]
  },
  {
   "cell_type": "code",
   "execution_count": 80,
   "metadata": {},
   "outputs": [
    {
     "data": {
      "text/plain": [
       "<matplotlib.legend.Legend at 0x7fd25455da60>"
      ]
     },
     "execution_count": 80,
     "metadata": {},
     "output_type": "execute_result"
    },
    {
     "data": {
      "image/png": "[encoded data removed]",
      "text/plain": [
       "<Figure size 432x288 with 1 Axes>"
      ]
     },
     "metadata": {
      "needs_background": "light"
     },
     "output_type": "display_data"
    }
   ],
   "source": [
    "plt.plot(LR_hpar, LR_recall_list_train, label='LR recall Train')\n",
    "plt.legend()"
   ]
  },
  {
   "cell_type": "code",
   "execution_count": 81,
   "metadata": {},
   "outputs": [
    {
     "data": {
      "text/plain": [
       "<matplotlib.legend.Legend at 0x7fd210083520>"
      ]
     },
     "execution_count": 81,
     "metadata": {},
     "output_type": "execute_result"
    },
    {
     "data": {
      "image/png": "[encoded data removed]",
      "text/plain": [
       "<Figure size 432x288 with 1 Axes>"
      ]
     },
     "metadata": {
      "needs_background": "light"
     },
     "output_type": "display_data"
    }
   ],
   "source": [
    "plt.plot(KNN_hpar, KNN_recall_list_train, label='KNN recall Train')\n",
    "plt.legend()"
   ]
  },
  {
   "cell_type": "markdown",
   "metadata": {},
   "source": [
    "#### 2. 학습데이터로 평가했을 때 가장 좋은 성능을 보인 하이퍼 파라미터값을 기준으로 Logistic Regression, KNN모델을 만들어 테스트 데이터로 평가\n",
    "* 평가지표 Recall, Precision, F1-score"
   ]
  },
  {
   "cell_type": "code",
   "execution_count": 83,
   "metadata": {},
   "outputs": [
    {
     "name": "stdout",
     "output_type": "stream",
     "text": [
      "recall for LR = 0.9850746268656716\n",
      "recall for KNN = 0.9850746268656716\n",
      "precision for LR = 0.9887640449438202\n",
      "precision for KNN = 0.9850746268656716\n",
      "f1-score for LR = 0.9869158878504672\n",
      "f1-score for KNN = 0.9850746268656716\n"
     ]
    }
   ],
   "source": [
    "# C=10\n",
    "# n_neighbors = 7 \n",
    "best_LR = LogisticRegression(C=10)\n",
    "best_KNN = KNeighborsClassifier(n_neighbors = 7)\n",
    "\n",
    "best_LR.fit(train_wx, train_wy.astype('int'))\n",
    "best_KNN.fit(train_wx, train_wy.astype('int'))\n",
    "\n",
    "print(f\"recall for LR = {recall_score(test_wy.astype('int'), best_LR.predict(test_wx))}\")\n",
    "print(f\"recall for KNN = {recall_score(test_wy.astype('int'), best_KNN.predict(test_wx))}\")\n",
    "print(f\"precision for LR = {precision_score(test_wy.astype('int'), best_LR.predict(test_wx))}\")\n",
    "print(f\"precision for KNN = {precision_score(test_wy.astype('int'), best_KNN.predict(test_wx))}\")\n",
    "print(f\"f1-score for LR = {f1_score(test_wy.astype('int'), best_LR.predict(test_wx))}\")\n",
    "print(f\"f1-score for KNN = {f1_score(test_wy.astype('int'), best_KNN.predict(test_wx))}\")"
   ]
  },
  {
   "cell_type": "code",
   "execution_count": null,
   "metadata": {},
   "outputs": [],
   "source": []
  }
 ],
 "metadata": {
  "kernelspec": {
   "display_name": "Python 3 (ipykernel)",
   "language": "python",
   "name": "python3"
  },
  "language_info": {
   "codemirror_mode": {
    "name": "ipython",
    "version": 3
   },
   "file_extension": ".py",
   "mimetype": "text/x-python",
   "name": "python",
   "nbconvert_exporter": "python",
   "pygments_lexer": "ipython3",
   "version": "3.9.15"
  }
 },
 "nbformat": 4,
 "nbformat_minor": 2
}
