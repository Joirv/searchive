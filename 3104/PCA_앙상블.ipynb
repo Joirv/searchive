{
 "cells": [
  {
   "cell_type": "markdown",
   "id": "cfc6eb5a",
   "metadata": {},
   "source": [
    "# 1. 회귀문제"
   ]
  },
  {
   "cell_type": "code",
   "execution_count": 1,
   "id": "9d9b5e8e",
   "metadata": {},
   "outputs": [],
   "source": [
    "import numpy as np\n",
    "import matplotlib.pyplot as plt\n",
    "import seaborn as sns\n",
    "import pandas as pd\n",
    "from sklearn.model_selection import train_test_split,cross_val_score,GridSearchCV\n",
    "from sklearn.ensemble import RandomForestClassifier, RandomForestRegressor\n",
    "from lightgbm import LGBMClassifier, LGBMRegressor\n",
    "from xgboost import XGBClassifier, XGBRegressor\n",
    "\n",
    "from sklearn import tree\n",
    "from sklearn.preprocessing import StandardScaler\n",
    "from sklearn.metrics import mean_squared_error, r2_score, recall_score, f1_score, precision_score\n",
    "from sklearn.feature_selection import RFE\n",
    "from sklearn.svm import SVC\n",
    "from sklearn.decomposition import PCA\n",
    "from boruta import BorutaPy"
   ]
  },
  {
   "cell_type": "markdown",
   "id": "35bf3dbd",
   "metadata": {},
   "source": [
    "## 데이터 전처리"
   ]
  },
  {
   "cell_type": "markdown",
   "id": "549fce0f",
   "metadata": {},
   "source": [
    "#### 1. 데이터 불러오기 및 Unnamed: 0 변수 제거"
   ]
  },
  {
   "cell_type": "code",
   "execution_count": 2,
   "id": "a1b2fb91",
   "metadata": {},
   "outputs": [],
   "source": [
    "bicycle = pd.read_csv(\"./regression.csv\")"
   ]
  },
  {
   "cell_type": "code",
   "execution_count": 3,
   "id": "59d952ce",
   "metadata": {},
   "outputs": [],
   "source": [
    "bicycle.drop(labels=\"Unnamed: 0\", axis=1, inplace=True)"
   ]
  },
  {
   "cell_type": "markdown",
   "id": "8e1a91bb",
   "metadata": {},
   "source": [
    "#### 2. count를 y값, 나머지를 X값으로 처리"
   ]
  },
  {
   "cell_type": "code",
   "execution_count": 4,
   "id": "3af0a445",
   "metadata": {},
   "outputs": [],
   "source": [
    "x = bicycle.drop([\"count\"], axis=1)\n",
    "y = bicycle[\"count\"]"
   ]
  },
  {
   "cell_type": "markdown",
   "id": "158fadb1",
   "metadata": {},
   "source": [
    "#### 3. 학습, 테스트 데이터 8:2비율로 분할 \n",
    "* random state=1 으로 지정"
   ]
  },
  {
   "cell_type": "code",
   "execution_count": 5,
   "id": "25f6a0e2",
   "metadata": {},
   "outputs": [],
   "source": [
    "train_x, test_x, train_y, test_y = train_test_split(x, y, train_size=0.8, random_state=1)"
   ]
  },
  {
   "cell_type": "markdown",
   "id": "771a375e",
   "metadata": {},
   "source": [
    "#### 4. X 데이터 Standard Scale 진행"
   ]
  },
  {
   "cell_type": "code",
   "execution_count": 6,
   "id": "e52c386e",
   "metadata": {},
   "outputs": [],
   "source": [
    "scaler = StandardScaler()\n",
    "scaler.fit(train_x)\n",
    "\n",
    "train_x = pd.DataFrame(scaler.transform(train_x), columns=train_x.columns)\n",
    "test_x = pd.DataFrame(scaler.transform(test_x), columns=test_x.columns)"
   ]
  },
  {
   "cell_type": "markdown",
   "id": "7d4c3aa0",
   "metadata": {},
   "source": [
    "#### 5. 학습데이터 X 통계량 출력(describe 함수 사용)"
   ]
  },
  {
   "cell_type": "code",
   "execution_count": 7,
   "id": "b2f3164b",
   "metadata": {},
   "outputs": [
    {
     "data": {
      "text/html": [
       "<div>\n",
       "<style scoped>\n",
       "    .dataframe tbody tr th:only-of-type {\n",
       "        vertical-align: middle;\n",
       "    }\n",
       "\n",
       "    .dataframe tbody tr th {\n",
       "        vertical-align: top;\n",
       "    }\n",
       "\n",
       "    .dataframe thead th {\n",
       "        text-align: right;\n",
       "    }\n",
       "</style>\n",
       "<table border=\"1\" class=\"dataframe\">\n",
       "  <thead>\n",
       "    <tr style=\"text-align: right;\">\n",
       "      <th></th>\n",
       "      <th>hour</th>\n",
       "      <th>hour_bef_temperature</th>\n",
       "      <th>hour_bef_precipitation</th>\n",
       "      <th>hour_bef_windspeed</th>\n",
       "      <th>hour_bef_humidity</th>\n",
       "      <th>hour_bef_visibility</th>\n",
       "      <th>hour_bef_ozone</th>\n",
       "      <th>hour_bef_pm10</th>\n",
       "      <th>hour_bef_pm2.5</th>\n",
       "    </tr>\n",
       "  </thead>\n",
       "  <tbody>\n",
       "    <tr>\n",
       "      <th>count</th>\n",
       "      <td>1.073000e+03</td>\n",
       "      <td>1.073000e+03</td>\n",
       "      <td>1.073000e+03</td>\n",
       "      <td>1.073000e+03</td>\n",
       "      <td>1.073000e+03</td>\n",
       "      <td>1.073000e+03</td>\n",
       "      <td>1.073000e+03</td>\n",
       "      <td>1.073000e+03</td>\n",
       "      <td>1.073000e+03</td>\n",
       "    </tr>\n",
       "    <tr>\n",
       "      <th>mean</th>\n",
       "      <td>9.301869e-17</td>\n",
       "      <td>5.041013e-16</td>\n",
       "      <td>-3.212714e-17</td>\n",
       "      <td>-5.690798e-17</td>\n",
       "      <td>1.024344e-16</td>\n",
       "      <td>-4.449170e-17</td>\n",
       "      <td>-3.794728e-16</td>\n",
       "      <td>7.573935e-17</td>\n",
       "      <td>-2.506538e-17</td>\n",
       "    </tr>\n",
       "    <tr>\n",
       "      <th>std</th>\n",
       "      <td>1.000466e+00</td>\n",
       "      <td>1.000466e+00</td>\n",
       "      <td>1.000466e+00</td>\n",
       "      <td>1.000466e+00</td>\n",
       "      <td>1.000466e+00</td>\n",
       "      <td>1.000466e+00</td>\n",
       "      <td>1.000466e+00</td>\n",
       "      <td>1.000466e+00</td>\n",
       "      <td>1.000466e+00</td>\n",
       "    </tr>\n",
       "    <tr>\n",
       "      <th>min</th>\n",
       "      <td>-1.754004e+00</td>\n",
       "      <td>-2.664005e+00</td>\n",
       "      <td>-1.781313e-01</td>\n",
       "      <td>-1.819309e+00</td>\n",
       "      <td>-2.226817e+00</td>\n",
       "      <td>-2.321415e+00</td>\n",
       "      <td>-1.861060e+00</td>\n",
       "      <td>-1.518514e+00</td>\n",
       "      <td>-1.517693e+00</td>\n",
       "    </tr>\n",
       "    <tr>\n",
       "      <th>25%</th>\n",
       "      <td>-8.684045e-01</td>\n",
       "      <td>-7.304412e-01</td>\n",
       "      <td>-1.781313e-01</td>\n",
       "      <td>-7.958030e-01</td>\n",
       "      <td>-7.741268e-01</td>\n",
       "      <td>-8.780980e-01</td>\n",
       "      <td>-6.887126e-01</td>\n",
       "      <td>-7.015717e-01</td>\n",
       "      <td>-7.106802e-01</td>\n",
       "    </tr>\n",
       "    <tr>\n",
       "      <th>50%</th>\n",
       "      <td>1.719477e-02</td>\n",
       "      <td>-2.210593e-02</td>\n",
       "      <td>-1.781313e-01</td>\n",
       "      <td>-6.472713e-02</td>\n",
       "      <td>-7.282824e-02</td>\n",
       "      <td>2.835114e-01</td>\n",
       "      <td>-2.608163e-02</td>\n",
       "      <td>-1.988378e-01</td>\n",
       "      <td>-3.071738e-01</td>\n",
       "    </tr>\n",
       "    <tr>\n",
       "      <th>75%</th>\n",
       "      <td>9.027940e-01</td>\n",
       "      <td>6.287968e-01</td>\n",
       "      <td>-1.781313e-01</td>\n",
       "      <td>6.663488e-01</td>\n",
       "      <td>7.787486e-01</td>\n",
       "      <td>1.010387e+00</td>\n",
       "      <td>6.365494e-01</td>\n",
       "      <td>3.981586e-01</td>\n",
       "      <td>4.325879e-01</td>\n",
       "    </tr>\n",
       "    <tr>\n",
       "      <th>max</th>\n",
       "      <td>1.640793e+00</td>\n",
       "      <td>2.485784e+00</td>\n",
       "      <td>5.613836e+00</td>\n",
       "      <td>4.029298e+00</td>\n",
       "      <td>2.381717e+00</td>\n",
       "      <td>1.020820e+00</td>\n",
       "      <td>4.357477e+00</td>\n",
       "      <td>6.116756e+00</td>\n",
       "      <td>3.996894e+00</td>\n",
       "    </tr>\n",
       "  </tbody>\n",
       "</table>\n",
       "</div>"
      ],
      "text/plain": [
       "               hour  hour_bef_temperature  hour_bef_precipitation  \\\n",
       "count  1.073000e+03          1.073000e+03            1.073000e+03   \n",
       "mean   9.301869e-17          5.041013e-16           -3.212714e-17   \n",
       "std    1.000466e+00          1.000466e+00            1.000466e+00   \n",
       "min   -1.754004e+00         -2.664005e+00           -1.781313e-01   \n",
       "25%   -8.684045e-01         -7.304412e-01           -1.781313e-01   \n",
       "50%    1.719477e-02         -2.210593e-02           -1.781313e-01   \n",
       "75%    9.027940e-01          6.287968e-01           -1.781313e-01   \n",
       "max    1.640793e+00          2.485784e+00            5.613836e+00   \n",
       "\n",
       "       hour_bef_windspeed  hour_bef_humidity  hour_bef_visibility  \\\n",
       "count        1.073000e+03       1.073000e+03         1.073000e+03   \n",
       "mean        -5.690798e-17       1.024344e-16        -4.449170e-17   \n",
       "std          1.000466e+00       1.000466e+00         1.000466e+00   \n",
       "min         -1.819309e+00      -2.226817e+00        -2.321415e+00   \n",
       "25%         -7.958030e-01      -7.741268e-01        -8.780980e-01   \n",
       "50%         -6.472713e-02      -7.282824e-02         2.835114e-01   \n",
       "75%          6.663488e-01       7.787486e-01         1.010387e+00   \n",
       "max          4.029298e+00       2.381717e+00         1.020820e+00   \n",
       "\n",
       "       hour_bef_ozone  hour_bef_pm10  hour_bef_pm2.5  \n",
       "count    1.073000e+03   1.073000e+03    1.073000e+03  \n",
       "mean    -3.794728e-16   7.573935e-17   -2.506538e-17  \n",
       "std      1.000466e+00   1.000466e+00    1.000466e+00  \n",
       "min     -1.861060e+00  -1.518514e+00   -1.517693e+00  \n",
       "25%     -6.887126e-01  -7.015717e-01   -7.106802e-01  \n",
       "50%     -2.608163e-02  -1.988378e-01   -3.071738e-01  \n",
       "75%      6.365494e-01   3.981586e-01    4.325879e-01  \n",
       "max      4.357477e+00   6.116756e+00    3.996894e+00  "
      ]
     },
     "execution_count": 7,
     "metadata": {},
     "output_type": "execute_result"
    }
   ],
   "source": [
    "train_x.describe()"
   ]
  },
  {
   "cell_type": "markdown",
   "id": "2a15da20",
   "metadata": {},
   "source": [
    "## 모델 학습 및 평가"
   ]
  },
  {
   "cell_type": "markdown",
   "id": "e120a596",
   "metadata": {},
   "source": [
    "#### 1. RandomForest, XGBoost, LightGBM 3가지 모델에 대해 학습데이터를 사용하여 최적의 하이퍼파라미터 탐색\n",
    "- GridSearchCV cv=5를 통해 탐색\n",
    "- Random Forest 하이퍼파라미터 후보 : max_depth=3,5,10 , n_estimators=100,200,300 , random_state=1 \n",
    "- XGBoost 하이퍼파라미터 후보 : max_depth=3,5,10 , n_estimators=100,200,300 , learning_rate = 0.001,0.01,0.1,1 , gamma = 0.5,1,2  , random_state=1 \n",
    "- LightGBM 하이퍼파라미터 후보 : max_depth=3,5,10 , n_estimators=100,200,300 , learning_rate = 0.001,0.01,0.1,1 , random_state=1 \n",
    "- 평가지표 : R-Square"
   ]
  },
  {
   "cell_type": "code",
   "execution_count": 8,
   "id": "f3cc3ea3",
   "metadata": {},
   "outputs": [
    {
     "name": "stdout",
     "output_type": "stream",
     "text": [
      "[RandomForest] R2 score = 0.7693585584046533 / parameters = {'max_depth': 10, 'n_estimators': 100, 'random_state': 1}\n",
      "[XGBoost] R2 score = 0.7820826406316188 / parameters = {'gamma': 0.5, 'learning_rate': 0.1, 'max_depth': 5, 'n_estimators': 300, 'random_state': 1}\n",
      "[lightGBM] R2 score = 0.78391999861395 / parameters = {'learning_rate': 0.1, 'max_depth': 10, 'n_estimators': 100, 'random_state': 1}\n"
     ]
    }
   ],
   "source": [
    "rfr = RandomForestRegressor()\n",
    "xgboost = XGBRegressor()\n",
    "lightgbm = LGBMRegressor()\n",
    "\n",
    "param_rfr = {\n",
    "    'max_depth': [3,5,10],\n",
    "    'n_estimators': [100,200,300],\n",
    "    'random_state':[1]\n",
    "}\n",
    "param_xgb = {\n",
    "    'max_depth' : [3,5,10],\n",
    "    'n_estimators' : [100,200,300],\n",
    "    'learning_rate' : [0.001, 0.01, 0.1, 1],\n",
    "    'gamma' : [0.5, 1, 2],\n",
    "    'random_state' :[1]\n",
    "}\n",
    "param_lgbm = {\n",
    "    'max_depth' : [3,5,10],\n",
    "    'n_estimators' : [100,200,300],\n",
    "    'learning_rate' : [0.001,0.01,0.1,1],\n",
    "    'random_state' : [1]\n",
    "}\n",
    "\n",
    "gscv_rfr = GridSearchCV(estimator=rfr, param_grid = param_rfr, scoring='r2', cv=5)\n",
    "gscv_xgb = GridSearchCV(estimator=xgboost, param_grid = param_xgb, scoring='r2', cv=5)\n",
    "gscv_lgbm = GridSearchCV(estimator=lightgbm, param_grid = param_lgbm, scoring='r2', cv=5)\n",
    "\n",
    "gscv_rfr.fit(train_x, train_y)\n",
    "gscv_xgb.fit(train_x, train_y)\n",
    "gscv_lgbm.fit(train_x, train_y)\n",
    "\n",
    "print(f\"[RandomForest] R2 score = {gscv_rfr.best_score_} / parameters = {gscv_rfr.best_params_}\")\n",
    "print(f\"[XGBoost] R2 score = {gscv_xgb.best_score_} / parameters = {gscv_xgb.best_params_}\")\n",
    "print(f\"[lightGBM] R2 score = {gscv_lgbm.best_score_} / parameters = {gscv_lgbm.best_params_}\")"
   ]
  },
  {
   "cell_type": "markdown",
   "id": "854b73d4",
   "metadata": {},
   "source": [
    "#### 2. 학습데이터로 평가했을 때 가장 좋은 성능을 보인 하이퍼 파라미터값의RandomForest, XGBoost, LightGBM모델을 테스트 데이터로 평가\n",
    "* 평가지표 R-Square, MSE\n",
    "* 반올림 하여 소수점 셋째짜리 까지 계산"
   ]
  },
  {
   "cell_type": "code",
   "execution_count": 9,
   "id": "2749cfbe",
   "metadata": {},
   "outputs": [
    {
     "data": {
      "text/plain": [
       "LGBMRegressor(max_depth=10, random_state=1)"
      ]
     },
     "execution_count": 9,
     "metadata": {},
     "output_type": "execute_result"
    }
   ],
   "source": [
    "rfr_best = RandomForestRegressor(max_depth=10, n_estimators=100, random_state=1)\n",
    "xgboost_best = XGBRegressor(gamma=0.5, learning_rate=0.1, max_depth=5, n_estimators=300, random_state=1)\n",
    "lightgbm_best = LGBMRegressor(learning_rate=0.1, max_depth=10, n_estimators=100, random_state=1)\n",
    "\n",
    "rfr_best.fit(train_x, train_y)\n",
    "xgboost_best.fit(train_x, train_y)\n",
    "lightgbm_best.fit(train_x, train_y)"
   ]
  },
  {
   "cell_type": "code",
   "execution_count": 10,
   "id": "05e97e8f",
   "metadata": {},
   "outputs": [
    {
     "name": "stdout",
     "output_type": "stream",
     "text": [
      "[RandomForest] R-square : 0.762, MSE : 1526.263\n",
      "[XGBoost] R-square : 0.746, MSE : 1629.751\n",
      "[LightGBM] R-square : 0.759, MSE : 1544.256\n"
     ]
    }
   ],
   "source": [
    "print(\"[RandomForest] R-square : {:.3f}, MSE : {:.3f}\".format(r2_score(test_y, rfr_best.predict(test_x)), mean_squared_error(test_y, rfr_best.predict(test_x))))\n",
    "print(\"[XGBoost] R-square : {:.3f}, MSE : {:.3f}\".format(r2_score(test_y, xgboost_best.predict(test_x)), mean_squared_error(test_y, xgboost_best.predict(test_x))))\n",
    "print(\"[LightGBM] R-square : {:.3f}, MSE : {:.3f}\".format(r2_score(test_y, lightgbm_best.predict(test_x)), mean_squared_error(test_y, lightgbm_best.predict(test_x))))"
   ]
  },
  {
   "cell_type": "markdown",
   "id": "c2c5ef20",
   "metadata": {},
   "source": [
    "## 데이터 전처리"
   ]
  },
  {
   "cell_type": "markdown",
   "id": "b46fd68a",
   "metadata": {},
   "source": [
    "#### 1. 데이터 불러오기"
   ]
  },
  {
   "cell_type": "code",
   "execution_count": 11,
   "id": "540571d7",
   "metadata": {},
   "outputs": [],
   "source": [
    "wine = pd.read_csv(\"./classification.csv\")"
   ]
  },
  {
   "cell_type": "markdown",
   "id": "bf5efb69",
   "metadata": {},
   "source": [
    "#### 2. type값의 white, red를 숫자로 변경. 이때 white은 0 red는 1로 변경\n"
   ]
  },
  {
   "cell_type": "code",
   "execution_count": 12,
   "id": "5236fd9b",
   "metadata": {},
   "outputs": [],
   "source": [
    "wine['type']=np.where(wine['type']=='white', 0, wine['type'])\n",
    "wine['type']=np.where(wine['type']=='red', 1, wine['type'])"
   ]
  },
  {
   "cell_type": "markdown",
   "id": "e6942b8e",
   "metadata": {},
   "source": [
    "#### 3 type을 y, 나머지 변수를 X값으로 분할\n"
   ]
  },
  {
   "cell_type": "code",
   "execution_count": 13,
   "id": "719de96c",
   "metadata": {},
   "outputs": [],
   "source": [
    "wx = wine.drop(['type'], axis=1, inplace=False)\n",
    "wy = wine['type'].astype('int')"
   ]
  },
  {
   "cell_type": "markdown",
   "id": "6d7e5942",
   "metadata": {},
   "source": [
    "#### 3 X, y 를 8: 2로 데이터 분할\n",
    "- stratify를 통해 y값 클래스 비율 일정하게 분할\n",
    "- random_state = 1로 지정"
   ]
  },
  {
   "cell_type": "code",
   "execution_count": 14,
   "id": "5bb27ab1",
   "metadata": {},
   "outputs": [],
   "source": [
    "train_wx, test_wx, train_wy, test_wy = train_test_split(wx, wy, train_size=0.8, random_state=1, stratify=wy)"
   ]
  },
  {
   "cell_type": "markdown",
   "id": "c46815b1",
   "metadata": {},
   "source": [
    "#### 4. X 데이터 Standard Scale 진행\n"
   ]
  },
  {
   "cell_type": "code",
   "execution_count": 15,
   "id": "9ce73be1",
   "metadata": {},
   "outputs": [],
   "source": [
    "scaler = StandardScaler()\n",
    "scaler.fit(train_wx)\n",
    "\n",
    "train_wx = pd.DataFrame(scaler.transform(train_wx), columns=train_wx.columns)\n",
    "test_wx = pd.DataFrame(scaler.transform(test_wx), columns=test_wx.columns)"
   ]
  },
  {
   "cell_type": "markdown",
   "id": "5d51d55a",
   "metadata": {},
   "source": [
    "#### 5. 학습데이터 X 통계량 출력(describe 함수 사용)"
   ]
  },
  {
   "cell_type": "code",
   "execution_count": 16,
   "id": "4d0b169f",
   "metadata": {},
   "outputs": [
    {
     "data": {
      "text/html": [
       "<div>\n",
       "<style scoped>\n",
       "    .dataframe tbody tr th:only-of-type {\n",
       "        vertical-align: middle;\n",
       "    }\n",
       "\n",
       "    .dataframe tbody tr th {\n",
       "        vertical-align: top;\n",
       "    }\n",
       "\n",
       "    .dataframe thead th {\n",
       "        text-align: right;\n",
       "    }\n",
       "</style>\n",
       "<table border=\"1\" class=\"dataframe\">\n",
       "  <thead>\n",
       "    <tr style=\"text-align: right;\">\n",
       "      <th></th>\n",
       "      <th>quality</th>\n",
       "      <th>fixed acidity</th>\n",
       "      <th>volatile acidity</th>\n",
       "      <th>citric acid</th>\n",
       "      <th>residual sugar</th>\n",
       "      <th>chlorides</th>\n",
       "      <th>free sulfur dioxide</th>\n",
       "      <th>total sulfur dioxide</th>\n",
       "      <th>density</th>\n",
       "      <th>pH</th>\n",
       "      <th>sulphates</th>\n",
       "      <th>alcohol</th>\n",
       "    </tr>\n",
       "  </thead>\n",
       "  <tbody>\n",
       "    <tr>\n",
       "      <th>count</th>\n",
       "      <td>4.397000e+03</td>\n",
       "      <td>4.397000e+03</td>\n",
       "      <td>4.397000e+03</td>\n",
       "      <td>4.397000e+03</td>\n",
       "      <td>4.397000e+03</td>\n",
       "      <td>4.397000e+03</td>\n",
       "      <td>4.397000e+03</td>\n",
       "      <td>4.397000e+03</td>\n",
       "      <td>4.397000e+03</td>\n",
       "      <td>4.397000e+03</td>\n",
       "      <td>4.397000e+03</td>\n",
       "      <td>4.397000e+03</td>\n",
       "    </tr>\n",
       "    <tr>\n",
       "      <th>mean</th>\n",
       "      <td>-2.565355e-16</td>\n",
       "      <td>2.053874e-16</td>\n",
       "      <td>4.565120e-17</td>\n",
       "      <td>-1.730983e-16</td>\n",
       "      <td>1.457404e-16</td>\n",
       "      <td>9.065853e-17</td>\n",
       "      <td>-5.650851e-17</td>\n",
       "      <td>-2.888549e-17</td>\n",
       "      <td>1.308361e-14</td>\n",
       "      <td>8.957028e-16</td>\n",
       "      <td>-4.131080e-16</td>\n",
       "      <td>-8.604039e-16</td>\n",
       "    </tr>\n",
       "    <tr>\n",
       "      <th>std</th>\n",
       "      <td>1.000114e+00</td>\n",
       "      <td>1.000114e+00</td>\n",
       "      <td>1.000114e+00</td>\n",
       "      <td>1.000114e+00</td>\n",
       "      <td>1.000114e+00</td>\n",
       "      <td>1.000114e+00</td>\n",
       "      <td>1.000114e+00</td>\n",
       "      <td>1.000114e+00</td>\n",
       "      <td>1.000114e+00</td>\n",
       "      <td>1.000114e+00</td>\n",
       "      <td>1.000114e+00</td>\n",
       "      <td>1.000114e+00</td>\n",
       "    </tr>\n",
       "    <tr>\n",
       "      <th>min</th>\n",
       "      <td>-3.222467e+00</td>\n",
       "      <td>-2.598173e+00</td>\n",
       "      <td>-1.590381e+00</td>\n",
       "      <td>-2.241634e+00</td>\n",
       "      <td>-1.026032e+00</td>\n",
       "      <td>-1.378994e+00</td>\n",
       "      <td>-1.655318e+00</td>\n",
       "      <td>-1.949450e+00</td>\n",
       "      <td>-2.546053e+00</td>\n",
       "      <td>-2.980231e+00</td>\n",
       "      <td>-2.084266e+00</td>\n",
       "      <td>-1.756277e+00</td>\n",
       "    </tr>\n",
       "    <tr>\n",
       "      <th>25%</th>\n",
       "      <td>-9.372983e-01</td>\n",
       "      <td>-6.390549e-01</td>\n",
       "      <td>-6.574173e-01</td>\n",
       "      <td>-4.871902e-01</td>\n",
       "      <td>-7.686988e-01</td>\n",
       "      <td>-5.270247e-01</td>\n",
       "      <td>-7.530840e-01</td>\n",
       "      <td>-6.657428e-01</td>\n",
       "      <td>-8.024685e-01</td>\n",
       "      <td>-6.798087e-01</td>\n",
       "      <td>-6.763825e-01</td>\n",
       "      <td>-8.397119e-01</td>\n",
       "    </tr>\n",
       "    <tr>\n",
       "      <th>50%</th>\n",
       "      <td>2.052857e-01</td>\n",
       "      <td>-1.688665e-01</td>\n",
       "      <td>-2.842318e-01</td>\n",
       "      <td>-6.612380e-02</td>\n",
       "      <td>-5.328097e-01</td>\n",
       "      <td>-2.626204e-01</td>\n",
       "      <td>-7.640875e-02</td>\n",
       "      <td>4.742779e-02</td>\n",
       "      <td>5.070277e-02</td>\n",
       "      <td>-5.807297e-02</td>\n",
       "      <td>-1.400458e-01</td>\n",
       "      <td>-1.731191e-01</td>\n",
       "    </tr>\n",
       "    <tr>\n",
       "      <th>75%</th>\n",
       "      <td>2.052857e-01</td>\n",
       "      <td>3.796867e-01</td>\n",
       "      <td>3.999417e-01</td>\n",
       "      <td>4.952981e-01</td>\n",
       "      <td>5.823022e-01</td>\n",
       "      <td>2.368100e-01</td>\n",
       "      <td>6.002665e-01</td>\n",
       "      <td>7.071106e-01</td>\n",
       "      <td>7.684500e-01</td>\n",
       "      <td>6.258363e-01</td>\n",
       "      <td>4.633329e-01</td>\n",
       "      <td>7.017840e-01</td>\n",
       "    </tr>\n",
       "    <tr>\n",
       "      <th>max</th>\n",
       "      <td>3.633038e+00</td>\n",
       "      <td>6.805595e+00</td>\n",
       "      <td>7.739257e+00</td>\n",
       "      <td>6.390228e+00</td>\n",
       "      <td>5.621750e+00</td>\n",
       "      <td>1.198811e+01</td>\n",
       "      <td>1.458489e+01</td>\n",
       "      <td>5.788451e+00</td>\n",
       "      <td>5.298383e+00</td>\n",
       "      <td>4.915813e+00</td>\n",
       "      <td>9.715140e+00</td>\n",
       "      <td>3.659790e+00</td>\n",
       "    </tr>\n",
       "  </tbody>\n",
       "</table>\n",
       "</div>"
      ],
      "text/plain": [
       "            quality  fixed acidity  volatile acidity   citric acid  \\\n",
       "count  4.397000e+03   4.397000e+03      4.397000e+03  4.397000e+03   \n",
       "mean  -2.565355e-16   2.053874e-16      4.565120e-17 -1.730983e-16   \n",
       "std    1.000114e+00   1.000114e+00      1.000114e+00  1.000114e+00   \n",
       "min   -3.222467e+00  -2.598173e+00     -1.590381e+00 -2.241634e+00   \n",
       "25%   -9.372983e-01  -6.390549e-01     -6.574173e-01 -4.871902e-01   \n",
       "50%    2.052857e-01  -1.688665e-01     -2.842318e-01 -6.612380e-02   \n",
       "75%    2.052857e-01   3.796867e-01      3.999417e-01  4.952981e-01   \n",
       "max    3.633038e+00   6.805595e+00      7.739257e+00  6.390228e+00   \n",
       "\n",
       "       residual sugar     chlorides  free sulfur dioxide  \\\n",
       "count    4.397000e+03  4.397000e+03         4.397000e+03   \n",
       "mean     1.457404e-16  9.065853e-17        -5.650851e-17   \n",
       "std      1.000114e+00  1.000114e+00         1.000114e+00   \n",
       "min     -1.026032e+00 -1.378994e+00        -1.655318e+00   \n",
       "25%     -7.686988e-01 -5.270247e-01        -7.530840e-01   \n",
       "50%     -5.328097e-01 -2.626204e-01        -7.640875e-02   \n",
       "75%      5.823022e-01  2.368100e-01         6.002665e-01   \n",
       "max      5.621750e+00  1.198811e+01         1.458489e+01   \n",
       "\n",
       "       total sulfur dioxide       density            pH     sulphates  \\\n",
       "count          4.397000e+03  4.397000e+03  4.397000e+03  4.397000e+03   \n",
       "mean          -2.888549e-17  1.308361e-14  8.957028e-16 -4.131080e-16   \n",
       "std            1.000114e+00  1.000114e+00  1.000114e+00  1.000114e+00   \n",
       "min           -1.949450e+00 -2.546053e+00 -2.980231e+00 -2.084266e+00   \n",
       "25%           -6.657428e-01 -8.024685e-01 -6.798087e-01 -6.763825e-01   \n",
       "50%            4.742779e-02  5.070277e-02 -5.807297e-02 -1.400458e-01   \n",
       "75%            7.071106e-01  7.684500e-01  6.258363e-01  4.633329e-01   \n",
       "max            5.788451e+00  5.298383e+00  4.915813e+00  9.715140e+00   \n",
       "\n",
       "            alcohol  \n",
       "count  4.397000e+03  \n",
       "mean  -8.604039e-16  \n",
       "std    1.000114e+00  \n",
       "min   -1.756277e+00  \n",
       "25%   -8.397119e-01  \n",
       "50%   -1.731191e-01  \n",
       "75%    7.017840e-01  \n",
       "max    3.659790e+00  "
      ]
     },
     "execution_count": 16,
     "metadata": {},
     "output_type": "execute_result"
    }
   ],
   "source": [
    "train_wx.describe()"
   ]
  },
  {
   "cell_type": "markdown",
   "id": "0579d7ac",
   "metadata": {},
   "source": [
    "#### 6. PCA를 통한 변수 축약\n",
    "- explained_variance_ratio_를 통해 90%가 넘어지는 시점을 기준으로 축약할 개수 선택\n",
    "- 학습데이터를 이용해 진행"
   ]
  },
  {
   "cell_type": "code",
   "execution_count": 17,
   "id": "18d014ab",
   "metadata": {},
   "outputs": [
    {
     "name": "stdout",
     "output_type": "stream",
     "text": [
      "1 개의 잠재변수가 설명하는 분산은 전체 데이터의 25.35%\n",
      "2 개의 잠재변수가 설명하는 분산은 전체 데이터의 47.31%\n",
      "3 개의 잠재변수가 설명하는 분산은 전체 데이터의 61.00%\n",
      "4 개의 잠재변수가 설명하는 분산은 전체 데이터의 69.87%\n",
      "5 개의 잠재변수가 설명하는 분산은 전체 데이터의 76.75%\n",
      "6 개의 잠재변수가 설명하는 분산은 전체 데이터의 82.41%\n",
      "7 개의 잠재변수가 설명하는 분산은 전체 데이터의 87.10%\n",
      "8 개의 잠재변수가 설명하는 분산은 전체 데이터의 91.54%\n",
      "9 개의 잠재변수가 설명하는 분산은 전체 데이터의 95.32%\n"
     ]
    }
   ],
   "source": [
    "PCA_list=[]\n",
    "for i in range(1,10):\n",
    "    pca=sum(PCA(n_components=i).fit(train_wx).explained_variance_ratio_)\n",
    "    print(i,'개의 잠재변수가 설명하는 분산은 전체 데이터의 {:.2f}%'.format(pca*100))"
   ]
  },
  {
   "cell_type": "code",
   "execution_count": 20,
   "id": "33d81601",
   "metadata": {},
   "outputs": [],
   "source": [
    "pca8 = PCA(n_components=8)\n",
    "\n",
    "pca_train_wx=pca8.fit_transform(train_wx)\n",
    "pca_test_wx = pca8.transform(test_wx)"
   ]
  },
  {
   "cell_type": "markdown",
   "id": "37afe96b",
   "metadata": {},
   "source": [
    "#### 7. PCA 진행한 후의 학습, 테스트 데이터 X 평균 각각 계산\n",
    "* 반올림 하여 소수점 셋째짜리 까지 계산"
   ]
  },
  {
   "cell_type": "code",
   "execution_count": 21,
   "id": "a80e968b",
   "metadata": {},
   "outputs": [
    {
     "name": "stdout",
     "output_type": "stream",
     "text": [
      "mean of train data : -0.000\n",
      "mean of test data : -0.004\n"
     ]
    }
   ],
   "source": [
    "print(\"mean of train data : {:.3f}\".format(np.mean(pca_train_wx)))\n",
    "print(\"mean of test data : {:.3f}\".format(np.mean(pca_test_wx)))"
   ]
  },
  {
   "cell_type": "markdown",
   "id": "8c884339",
   "metadata": {},
   "source": [
    "## 모델 학습 및 평가"
   ]
  },
  {
   "cell_type": "markdown",
   "id": "929936cc",
   "metadata": {},
   "source": [
    "#### 1. SVM, Decision Tree 2가지 모델에 대해 학습데이터를 사용하여 최적의 하이퍼파라미터 탐색\n",
    "- GridSearchCV cv=5를 통해 탐색\n",
    "- SVM 하이퍼파라미터 후보 : kernel=rbf, linear, poliy , C= 0.5, 1.5, 10, random_state=1\n",
    "- Decision Tree 하이퍼파라미터 후보 : criterion : gini, entropy , max_depth=5,10,15,20,None , random_state=1\n",
    "- 평가지표 : F1-Score"
   ]
  },
  {
   "cell_type": "code",
   "execution_count": 22,
   "id": "81a90482",
   "metadata": {},
   "outputs": [
    {
     "name": "stdout",
     "output_type": "stream",
     "text": [
      "[SVM] F1 score = 0.9892247157830854 / parameters = {'C': 1.5, 'kernel': 'rbf', 'random_state': 1}\n",
      "[DT] F1 score = 0.9696867280306971 / parameters = {'criterion': 'entropy', 'max_depth': 10, 'random_state': 1}\n"
     ]
    }
   ],
   "source": [
    "svm = SVC()\n",
    "dt = tree.DecisionTreeClassifier()\n",
    "\n",
    "param_svm = {\n",
    "    'kernel' : ['rbf', 'linear', 'poly'],\n",
    "    'C' : [0.5, 1.5, 10],\n",
    "    'random_state': [1]\n",
    "}\n",
    "param_dt = {\n",
    "    'criterion' : ['gini', 'entropy'],\n",
    "    'max_depth' : [5, 10, 15, 20, None],\n",
    "    'random_state' : [1]\n",
    "}\n",
    "\n",
    "gscv_svm = GridSearchCV(svm, param_svm, scoring='f1', cv=5)\n",
    "gscv_dt = GridSearchCV(estimator=dt, param_grid=param_dt, scoring='f1', cv=5)\n",
    "\n",
    "gscv_svm.fit(pca_train_wx, train_wy)\n",
    "gscv_dt.fit(train_wx, train_wy)\n",
    "\n",
    "print(f\"[SVM] F1 score = {gscv_svm.best_score_} / parameters = {gscv_svm.best_params_}\")\n",
    "print(f\"[DT] F1 score = {gscv_dt.best_score_} / parameters = {gscv_dt.best_params_}\")"
   ]
  },
  {
   "cell_type": "markdown",
   "id": "5e86079c",
   "metadata": {},
   "source": [
    "#### 2. 학습데이터로 평가했을 때 가장 좋은 성능을 보인 하이퍼 파라미터값의 SVM Decision Tree 모델을 테스트 데이터로 평가\n",
    "* 평가지표 Recall, Precision ,F1-Score\n",
    "* 반올림 하여 소수점 셋째짜리 까지 계산"
   ]
  },
  {
   "cell_type": "code",
   "execution_count": 23,
   "id": "2f7a869b",
   "metadata": {},
   "outputs": [
    {
     "data": {
      "text/plain": [
       "DecisionTreeClassifier(criterion='entropy', max_depth=10, random_state=1)"
      ]
     },
     "execution_count": 23,
     "metadata": {},
     "output_type": "execute_result"
    }
   ],
   "source": [
    "svm_best = SVC(C=1.5, kernel='rbf', random_state=1)\n",
    "dt_best = tree.DecisionTreeClassifier(criterion='entropy', max_depth=10, random_state=1)\n",
    "\n",
    "svm_best.fit(pca_train_wx, train_wy)\n",
    "dt_best.fit(pca_train_wx, train_wy)"
   ]
  },
  {
   "cell_type": "code",
   "execution_count": 24,
   "id": "854b9312",
   "metadata": {},
   "outputs": [
    {
     "name": "stdout",
     "output_type": "stream",
     "text": [
      "[SVM] Recall : 0.978, Precision : 0.992, F1-Score : 0.985\n",
      "[DT] Recall : 0.974, Precision : 0.960, F1-Score : 0.967\n"
     ]
    }
   ],
   "source": [
    "print(\"[SVM] Recall : {:.3f}, Precision : {:.3f}, F1-Score : {:.3f}\".format(recall_score(test_wy, svm_best.predict(pca_test_wx)), precision_score(test_wy, svm_best.predict(pca_test_wx)), f1_score(test_wy, svm_best.predict(pca_test_wx))))\n",
    "print(\"[DT] Recall : {:.3f}, Precision : {:.3f}, F1-Score : {:.3f}\".format(recall_score(test_wy, dt_best.predict(pca_test_wx)), precision_score(test_wy, dt_best.predict(pca_test_wx)), f1_score(test_wy, dt_best.predict(pca_test_wx))))\n"
   ]
  },
  {
   "cell_type": "code",
   "execution_count": null,
   "id": "7dfcbcf6",
   "metadata": {},
   "outputs": [],
   "source": []
  }
 ],
 "metadata": {
  "kernelspec": {
   "display_name": "Python 3 (ipykernel)",
   "language": "python",
   "name": "python3"
  },
  "language_info": {
   "codemirror_mode": {
    "name": "ipython",
    "version": 3
   },
   "file_extension": ".py",
   "mimetype": "text/x-python",
   "name": "python",
   "nbconvert_exporter": "python",
   "pygments_lexer": "ipython3",
   "version": "3.9.15"
  }
 },
 "nbformat": 4,
 "nbformat_minor": 5
}
